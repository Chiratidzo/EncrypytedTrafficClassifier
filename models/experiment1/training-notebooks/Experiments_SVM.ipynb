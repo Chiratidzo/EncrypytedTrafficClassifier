{
 "cells": [
  {
   "cell_type": "markdown",
   "metadata": {
    "colab_type": "text",
    "id": "RFNj1PUiebPk"
   },
   "source": [
    "# Support Vector Machine"
   ]
  },
  {
   "cell_type": "markdown",
   "metadata": {
    "colab_type": "text",
    "id": "KNB38_kcWgXs"
   },
   "source": [
    "## Preliminaries"
   ]
  },
  {
   "cell_type": "markdown",
   "metadata": {
    "colab_type": "text",
    "id": "H0cCfVORVGFP"
   },
   "source": [
    "Import preprocessing helper functions"
   ]
  },
  {
   "cell_type": "code",
   "execution_count": 6,
   "metadata": {
    "ExecuteTime": {
     "end_time": "2020-09-21T09:13:14.659936Z",
     "start_time": "2020-09-21T09:13:14.647480Z"
    }
   },
   "outputs": [],
   "source": [
    "import sys\n",
    "sys.path.append(\"../../helper-modules\")\n",
    "from preprocessing_utils import read_in_data, preprocess"
   ]
  },
  {
   "cell_type": "markdown",
   "metadata": {
    "colab_type": "text",
    "id": "owrMb6t7VGFU"
   },
   "source": [
    "Read in the data to df_train, df_val and df_test"
   ]
  },
  {
   "cell_type": "code",
   "execution_count": 7,
   "metadata": {
    "ExecuteTime": {
     "end_time": "2020-09-21T09:13:41.914509Z",
     "start_time": "2020-09-21T09:13:15.790575Z"
    },
    "colab": {},
    "colab_type": "code",
    "id": "KeFp32IJVGFU"
   },
   "outputs": [],
   "source": [
    "df_train, df_val, df_test = read_in_data()"
   ]
  },
  {
   "cell_type": "markdown",
   "metadata": {
    "colab_type": "text",
    "id": "acwTGCFnVGFX"
   },
   "source": [
    "Create X_train, y_train, X_val, y_val, X_test, y_test"
   ]
  },
  {
   "cell_type": "code",
   "execution_count": null,
   "metadata": {
    "ExecuteTime": {
     "end_time": "2020-08-24T10:13:09.015265Z",
     "start_time": "2020-08-24T10:13:06.461112Z"
    },
    "colab": {},
    "colab_type": "code",
    "id": "bN8m6sg0VGFY"
   },
   "outputs": [],
   "source": [
    "(X_train, y_train), (X_val, y_val), (X_test, y_test) = preprocess(\"SVM\", df_train, df_test, df_val)"
   ]
  },
  {
   "cell_type": "markdown",
   "metadata": {
    "ExecuteTime": {
     "end_time": "2020-08-22T15:46:00.889462Z",
     "start_time": "2020-08-22T15:46:00.874616Z"
    },
    "colab_type": "text",
    "id": "bUWYTLd3VGFc"
   },
   "source": [
    "## Model Building"
   ]
  },
  {
   "cell_type": "code",
   "execution_count": null,
   "metadata": {},
   "outputs": [],
   "source": [
    "from sklearn import svm\n",
    "from sklearn.metrics import accuracy_score"
   ]
  },
  {
   "cell_type": "markdown",
   "metadata": {},
   "source": [
    "Set a seed for reproducibility"
   ]
  },
  {
   "cell_type": "code",
   "execution_count": null,
   "metadata": {},
   "outputs": [],
   "source": [
    "SEED = 42"
   ]
  },
  {
   "cell_type": "markdown",
   "metadata": {},
   "source": [
    "Create a Linear SVM classifier"
   ]
  },
  {
   "cell_type": "code",
   "execution_count": null,
   "metadata": {
    "colab": {
     "base_uri": "https://localhost:8080/",
     "height": 87
    },
    "colab_type": "code",
    "id": "XWzzN4qie0ez",
    "outputId": "3e40592c-3e22-40c1-97a0-435ee51511a1"
   },
   "outputs": [
    {
     "data": {
      "text/plain": [
       "LinearSVC(C=1.0, class_weight=None, dual=False, fit_intercept=True,\n",
       "          intercept_scaling=1, loss='squared_hinge', max_iter=1000,\n",
       "          multi_class='ovr', penalty='l2', random_state=42, tol=0.0001,\n",
       "          verbose=0)"
      ]
     },
     "execution_count": 9,
     "metadata": {
      "tags": []
     },
     "output_type": "execute_result"
    }
   ],
   "source": [
    "clf = svm.LinearSVC(dual=False, random_state=SEED) # dual = False is recommended, since number of training examples >> number of features\n",
    "clf.fit(X_train,y_train)"
   ]
  },
  {
   "cell_type": "markdown",
   "metadata": {},
   "source": [
    "Predict on the validation set"
   ]
  },
  {
   "cell_type": "code",
   "execution_count": null,
   "metadata": {
    "colab": {
     "base_uri": "https://localhost:8080/",
     "height": 34
    },
    "colab_type": "code",
    "id": "02tV_pPZf1It",
    "outputId": "c3070d2a-44a6-44fa-e2e6-e89e29d5873c"
   },
   "outputs": [
    {
     "name": "stdout",
     "output_type": "stream",
     "text": [
      "Validation Accuracy: 0.6408125\n"
     ]
    }
   ],
   "source": [
    "y_pred_val = clf.predict(X_val)\n",
    "val_acc = accuracy_score(y_val, y_pred_val)\n",
    "print(\"Validation Accuracy:\",val_acc)"
   ]
  },
  {
   "cell_type": "markdown",
   "metadata": {
    "colab_type": "text",
    "id": "5D6j2AMGi2Cc"
   },
   "source": [
    "Write SVM experiments results to file"
   ]
  },
  {
   "cell_type": "code",
   "execution_count": null,
   "metadata": {
    "colab": {},
    "colab_type": "code",
    "id": "v09bS-JSjdKE"
   },
   "outputs": [],
   "source": [
    "model_type = \"SVM\"\n",
    "model_number = 1\n",
    "num_params = X_train.shape[1] + 1 # number of features plus intercept term"
   ]
  },
  {
   "cell_type": "code",
   "execution_count": null,
   "metadata": {
    "colab": {},
    "colab_type": "code",
    "id": "awUlUjZQiyc9"
   },
   "outputs": [],
   "source": [
    "with open(\"../training-results/ExperimentLogs_SVM.csv\", \"w\") as file:\n",
    "  header = \"ModelNumber;ValAccuracy;NumParams\\n\" # Header row\n",
    "  file.write(header) \n",
    "  row = f\"{model_number};{val_acc};{num_params}\"\n",
    "  file.write(row)"
   ]
  },
  {
   "cell_type": "markdown",
   "metadata": {
    "colab_type": "text",
    "id": "TROZc1ozh98q"
   },
   "source": [
    "Save SVM model to file"
   ]
  },
  {
   "cell_type": "code",
   "execution_count": null,
   "metadata": {},
   "outputs": [],
   "source": [
    "import pickle"
   ]
  },
  {
   "cell_type": "code",
   "execution_count": null,
   "metadata": {
    "colab": {},
    "colab_type": "code",
    "id": "TrCf0t0MfIZl"
   },
   "outputs": [],
   "source": [
    "MODELS_PATH = \"../trained-models/\""
   ]
  },
  {
   "cell_type": "code",
   "execution_count": null,
   "metadata": {
    "colab": {},
    "colab_type": "code",
    "id": "XRo14ma0hwce"
   },
   "outputs": [],
   "source": [
    "pkl_filename = f\"{model_type}_{model_number}.pkl\"\n",
    "with open(MODELS_PATH + pkl_filename, 'wb') as file:\n",
    "    pickle.dump(clf, file)"
   ]
  }
 ],
 "metadata": {
  "colab": {
   "collapsed_sections": [],
   "name": "Experiments_SVM.ipynb",
   "provenance": [],
   "toc_visible": true
  },
  "kernelspec": {
   "display_name": "Python 3",
   "language": "python",
   "name": "python3"
  },
  "language_info": {
   "codemirror_mode": {
    "name": "ipython",
    "version": 3
   },
   "file_extension": ".py",
   "mimetype": "text/x-python",
   "name": "python",
   "nbconvert_exporter": "python",
   "pygments_lexer": "ipython3",
   "version": "3.8.5"
  }
 },
 "nbformat": 4,
 "nbformat_minor": 1
}
