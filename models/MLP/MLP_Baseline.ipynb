{
 "cells": [
  {
   "cell_type": "code",
   "execution_count": 1,
   "metadata": {},
   "outputs": [],
   "source": [
    "import pandas as pd\n",
    "import numpy as np\n",
    "import os\n",
    "import tensorflow as tf\n",
    "import matplotlib.pyplot as plt"
   ]
  },
  {
   "cell_type": "code",
   "execution_count": 2,
   "metadata": {},
   "outputs": [],
   "source": [
    "from tensorflow import keras"
   ]
  },
  {
   "cell_type": "markdown",
   "metadata": {},
   "source": [
    "## Setting the seeds for reproducibility"
   ]
  },
  {
   "cell_type": "code",
   "execution_count": 3,
   "metadata": {},
   "outputs": [],
   "source": [
    "# Seed value\n",
    "seed_value= 0\n",
    "\n",
    "# 1. Set `PYTHONHASHSEED` environment variable at a fixed value\n",
    "import os\n",
    "os.environ['PYTHONHASHSEED']=str(seed_value)\n",
    "\n",
    "# 2. Set `python` built-in pseudo-random generator at a fixed value\n",
    "import random\n",
    "random.seed(seed_value)\n",
    "\n",
    "# 3. Set `numpy` pseudo-random generator at a fixed value\n",
    "import numpy as np\n",
    "np.random.seed(seed_value)\n",
    "\n",
    "# 4. Set the `tensorflow` pseudo-random generator at a fixed value\n",
    "import tensorflow as tf\n",
    "tf.random.set_seed(seed_value)"
   ]
  },
  {
   "cell_type": "code",
   "execution_count": 4,
   "metadata": {},
   "outputs": [],
   "source": [
    "cwd = os.getcwd()"
   ]
  },
  {
   "cell_type": "code",
   "execution_count": 5,
   "metadata": {},
   "outputs": [],
   "source": [
    "# you dont need this on your machines\n",
    "import os\n",
    "os.environ['KMP_DUPLICATE_LIB_OK']='True'"
   ]
  },
  {
   "cell_type": "markdown",
   "metadata": {},
   "source": [
    "## Creating pipeline"
   ]
  },
  {
   "cell_type": "code",
   "execution_count": 6,
   "metadata": {},
   "outputs": [],
   "source": [
    "BATCH_SIZE = 32"
   ]
  },
  {
   "cell_type": "markdown",
   "metadata": {},
   "source": [
    "### Creating train tf.data.dataset"
   ]
  },
  {
   "cell_type": "code",
   "execution_count": 7,
   "metadata": {},
   "outputs": [],
   "source": [
    "cwd = os.getcwd()\n",
    "train_file_path = '/'.join(cwd.split('/')[:-2]) + '/preprocessing/data/6_5000/train_6_5000.csv'\n",
    "train_df = pd.read_csv(train_file_path)"
   ]
  },
  {
   "cell_type": "code",
   "execution_count": 8,
   "metadata": {},
   "outputs": [],
   "source": [
    "## converting the labels into unique integers\n",
    "train_df['label'] = train_df.label.astype('category').cat.codes"
   ]
  },
  {
   "cell_type": "code",
   "execution_count": 9,
   "metadata": {},
   "outputs": [],
   "source": [
    "## train_3_half.csv\n",
    "train_labels = train_df.pop('label')"
   ]
  },
  {
   "cell_type": "code",
   "execution_count": 10,
   "metadata": {},
   "outputs": [],
   "source": [
    "train_df = train_df / 255.0"
   ]
  },
  {
   "cell_type": "code",
   "execution_count": 11,
   "metadata": {},
   "outputs": [
    {
     "data": {
      "text/html": [
       "<div>\n",
       "<style scoped>\n",
       "    .dataframe tbody tr th:only-of-type {\n",
       "        vertical-align: middle;\n",
       "    }\n",
       "\n",
       "    .dataframe tbody tr th {\n",
       "        vertical-align: top;\n",
       "    }\n",
       "\n",
       "    .dataframe thead th {\n",
       "        text-align: right;\n",
       "    }\n",
       "</style>\n",
       "<table border=\"1\" class=\"dataframe\">\n",
       "  <thead>\n",
       "    <tr style=\"text-align: right;\">\n",
       "      <th></th>\n",
       "      <th>byte1</th>\n",
       "      <th>byte2</th>\n",
       "      <th>byte3</th>\n",
       "      <th>byte4</th>\n",
       "      <th>byte5</th>\n",
       "      <th>byte6</th>\n",
       "      <th>byte7</th>\n",
       "      <th>byte8</th>\n",
       "      <th>byte9</th>\n",
       "      <th>byte10</th>\n",
       "      <th>...</th>\n",
       "      <th>byte1471</th>\n",
       "      <th>byte1472</th>\n",
       "      <th>byte1473</th>\n",
       "      <th>byte1474</th>\n",
       "      <th>byte1475</th>\n",
       "      <th>byte1476</th>\n",
       "      <th>byte1477</th>\n",
       "      <th>byte1478</th>\n",
       "      <th>byte1479</th>\n",
       "      <th>byte1480</th>\n",
       "    </tr>\n",
       "  </thead>\n",
       "  <tbody>\n",
       "    <tr>\n",
       "      <th>0</th>\n",
       "      <td>0.003922</td>\n",
       "      <td>0.733333</td>\n",
       "      <td>0.956863</td>\n",
       "      <td>0.454902</td>\n",
       "      <td>0.619608</td>\n",
       "      <td>0.980392</td>\n",
       "      <td>0.101961</td>\n",
       "      <td>0.717647</td>\n",
       "      <td>0.670588</td>\n",
       "      <td>0.360784</td>\n",
       "      <td>...</td>\n",
       "      <td>0.000000</td>\n",
       "      <td>0.000000</td>\n",
       "      <td>0.0</td>\n",
       "      <td>0.0</td>\n",
       "      <td>0.0</td>\n",
       "      <td>0.0</td>\n",
       "      <td>0.0</td>\n",
       "      <td>0.0</td>\n",
       "      <td>0.0</td>\n",
       "      <td>0.0</td>\n",
       "    </tr>\n",
       "    <tr>\n",
       "      <th>1</th>\n",
       "      <td>0.003922</td>\n",
       "      <td>0.733333</td>\n",
       "      <td>0.611765</td>\n",
       "      <td>0.086275</td>\n",
       "      <td>0.349020</td>\n",
       "      <td>0.666667</td>\n",
       "      <td>0.996078</td>\n",
       "      <td>0.015686</td>\n",
       "      <td>0.537255</td>\n",
       "      <td>0.752941</td>\n",
       "      <td>...</td>\n",
       "      <td>0.000000</td>\n",
       "      <td>0.000000</td>\n",
       "      <td>0.0</td>\n",
       "      <td>0.0</td>\n",
       "      <td>0.0</td>\n",
       "      <td>0.0</td>\n",
       "      <td>0.0</td>\n",
       "      <td>0.0</td>\n",
       "      <td>0.0</td>\n",
       "      <td>0.0</td>\n",
       "    </tr>\n",
       "    <tr>\n",
       "      <th>2</th>\n",
       "      <td>0.003922</td>\n",
       "      <td>0.733333</td>\n",
       "      <td>0.925490</td>\n",
       "      <td>0.403922</td>\n",
       "      <td>0.905882</td>\n",
       "      <td>0.360784</td>\n",
       "      <td>0.411765</td>\n",
       "      <td>0.403922</td>\n",
       "      <td>0.694118</td>\n",
       "      <td>0.760784</td>\n",
       "      <td>...</td>\n",
       "      <td>0.000000</td>\n",
       "      <td>0.000000</td>\n",
       "      <td>0.0</td>\n",
       "      <td>0.0</td>\n",
       "      <td>0.0</td>\n",
       "      <td>0.0</td>\n",
       "      <td>0.0</td>\n",
       "      <td>0.0</td>\n",
       "      <td>0.0</td>\n",
       "      <td>0.0</td>\n",
       "    </tr>\n",
       "    <tr>\n",
       "      <th>3</th>\n",
       "      <td>0.003922</td>\n",
       "      <td>0.733333</td>\n",
       "      <td>0.733333</td>\n",
       "      <td>0.270588</td>\n",
       "      <td>0.635294</td>\n",
       "      <td>0.913725</td>\n",
       "      <td>0.223529</td>\n",
       "      <td>0.662745</td>\n",
       "      <td>0.313725</td>\n",
       "      <td>0.666667</td>\n",
       "      <td>...</td>\n",
       "      <td>0.011765</td>\n",
       "      <td>0.682353</td>\n",
       "      <td>0.0</td>\n",
       "      <td>0.0</td>\n",
       "      <td>0.0</td>\n",
       "      <td>0.0</td>\n",
       "      <td>0.0</td>\n",
       "      <td>0.0</td>\n",
       "      <td>0.0</td>\n",
       "      <td>0.0</td>\n",
       "    </tr>\n",
       "    <tr>\n",
       "      <th>4</th>\n",
       "      <td>0.521569</td>\n",
       "      <td>0.054902</td>\n",
       "      <td>0.003922</td>\n",
       "      <td>0.733333</td>\n",
       "      <td>0.482353</td>\n",
       "      <td>0.215686</td>\n",
       "      <td>0.960784</td>\n",
       "      <td>0.772549</td>\n",
       "      <td>0.337255</td>\n",
       "      <td>0.588235</td>\n",
       "      <td>...</td>\n",
       "      <td>0.000000</td>\n",
       "      <td>0.000000</td>\n",
       "      <td>0.0</td>\n",
       "      <td>0.0</td>\n",
       "      <td>0.0</td>\n",
       "      <td>0.0</td>\n",
       "      <td>0.0</td>\n",
       "      <td>0.0</td>\n",
       "      <td>0.0</td>\n",
       "      <td>0.0</td>\n",
       "    </tr>\n",
       "  </tbody>\n",
       "</table>\n",
       "<p>5 rows × 1480 columns</p>\n",
       "</div>"
      ],
      "text/plain": [
       "      byte1     byte2     byte3     byte4     byte5     byte6     byte7  \\\n",
       "0  0.003922  0.733333  0.956863  0.454902  0.619608  0.980392  0.101961   \n",
       "1  0.003922  0.733333  0.611765  0.086275  0.349020  0.666667  0.996078   \n",
       "2  0.003922  0.733333  0.925490  0.403922  0.905882  0.360784  0.411765   \n",
       "3  0.003922  0.733333  0.733333  0.270588  0.635294  0.913725  0.223529   \n",
       "4  0.521569  0.054902  0.003922  0.733333  0.482353  0.215686  0.960784   \n",
       "\n",
       "      byte8     byte9    byte10  ...  byte1471  byte1472  byte1473  byte1474  \\\n",
       "0  0.717647  0.670588  0.360784  ...  0.000000  0.000000       0.0       0.0   \n",
       "1  0.015686  0.537255  0.752941  ...  0.000000  0.000000       0.0       0.0   \n",
       "2  0.403922  0.694118  0.760784  ...  0.000000  0.000000       0.0       0.0   \n",
       "3  0.662745  0.313725  0.666667  ...  0.011765  0.682353       0.0       0.0   \n",
       "4  0.772549  0.337255  0.588235  ...  0.000000  0.000000       0.0       0.0   \n",
       "\n",
       "   byte1475  byte1476  byte1477  byte1478  byte1479  byte1480  \n",
       "0       0.0       0.0       0.0       0.0       0.0       0.0  \n",
       "1       0.0       0.0       0.0       0.0       0.0       0.0  \n",
       "2       0.0       0.0       0.0       0.0       0.0       0.0  \n",
       "3       0.0       0.0       0.0       0.0       0.0       0.0  \n",
       "4       0.0       0.0       0.0       0.0       0.0       0.0  \n",
       "\n",
       "[5 rows x 1480 columns]"
      ]
     },
     "execution_count": 11,
     "metadata": {},
     "output_type": "execute_result"
    }
   ],
   "source": [
    "train_df.head()"
   ]
  },
  {
   "cell_type": "code",
   "execution_count": 12,
   "metadata": {},
   "outputs": [],
   "source": [
    "train_dataset = tf.data.Dataset.from_tensor_slices((train_df.values, train_labels.values))"
   ]
  },
  {
   "cell_type": "code",
   "execution_count": 13,
   "metadata": {},
   "outputs": [
    {
     "name": "stdout",
     "output_type": "stream",
     "text": [
      "Features: [0.00392157 0.73333333 0.95686275 ... 0.         0.         0.        ], Target: 1\n",
      "Features: [0.00392157 0.73333333 0.61176471 ... 0.         0.         0.        ], Target: 5\n",
      "Features: [0.00392157 0.73333333 0.9254902  ... 0.         0.         0.        ], Target: 5\n",
      "Features: [0.00392157 0.73333333 0.73333333 ... 0.         0.         0.        ], Target: 5\n",
      "Features: [0.52156863 0.05490196 0.00392157 ... 0.         0.         0.        ], Target: 1\n"
     ]
    }
   ],
   "source": [
    "## Just a quick test\n",
    "for feat, targ in train_dataset.take(5):\n",
    "    print('Features: {}, Target: {}'.format(feat, targ))"
   ]
  },
  {
   "cell_type": "code",
   "execution_count": 14,
   "metadata": {},
   "outputs": [],
   "source": [
    "train_dataset = train_dataset.shuffle(len(train_df), seed=seed_value).batch(BATCH_SIZE)"
   ]
  },
  {
   "cell_type": "markdown",
   "metadata": {},
   "source": [
    "## Creating validation tf.data.dataset"
   ]
  },
  {
   "cell_type": "code",
   "execution_count": 15,
   "metadata": {},
   "outputs": [],
   "source": [
    "validation_file_path = '/'.join(cwd.split('/')[:-2]) + '/preprocessing/data/6_5000/val_6_5000.csv'\n",
    "validation_df = pd.read_csv(validation_file_path)"
   ]
  },
  {
   "cell_type": "code",
   "execution_count": 16,
   "metadata": {},
   "outputs": [],
   "source": [
    "## converting the labels into unique integers\n",
    "validation_df['label'] = validation_df.label.astype('category').cat.codes"
   ]
  },
  {
   "cell_type": "code",
   "execution_count": 17,
   "metadata": {},
   "outputs": [],
   "source": [
    "## train_3_half.csv\n",
    "validation_labels = validation_df.pop('label')"
   ]
  },
  {
   "cell_type": "code",
   "execution_count": 18,
   "metadata": {},
   "outputs": [],
   "source": [
    "validation_df = validation_df / 255.0"
   ]
  },
  {
   "cell_type": "code",
   "execution_count": 19,
   "metadata": {},
   "outputs": [],
   "source": [
    "validation_dataset = tf.data.Dataset.from_tensor_slices((validation_df.values, validation_labels.values))"
   ]
  },
  {
   "cell_type": "code",
   "execution_count": 20,
   "metadata": {},
   "outputs": [
    {
     "name": "stdout",
     "output_type": "stream",
     "text": [
      "Features: [0.74901961 0.51372549 0.         ... 0.         0.         0.        ], Target: 0\n",
      "Features: [0.         0.31372549 0.76078431 ... 0.         0.         0.        ], Target: 3\n",
      "Features: [0.         0.31372549 0.76078431 ... 0.         0.         0.        ], Target: 3\n",
      "Features: [0.00392157 0.73333333 0.75294118 ... 0.         0.         0.        ], Target: 1\n",
      "Features: [0.00392157 0.73333333 0.95686275 ... 0.         0.         0.        ], Target: 1\n"
     ]
    }
   ],
   "source": [
    "## Just a quick test\n",
    "for feat, targ in validation_dataset.take(5):\n",
    "    print('Features: {}, Target: {}'.format(feat, targ))"
   ]
  },
  {
   "cell_type": "code",
   "execution_count": 21,
   "metadata": {},
   "outputs": [],
   "source": [
    "validation_dataset = validation_dataset.shuffle(len(validation_df), seed=seed_value).batch(BATCH_SIZE)"
   ]
  },
  {
   "cell_type": "markdown",
   "metadata": {},
   "source": [
    "### Creating test tf.data.dataset"
   ]
  },
  {
   "cell_type": "code",
   "execution_count": 22,
   "metadata": {},
   "outputs": [],
   "source": [
    "test_file_path = '/'.join(cwd.split('/')[:-2]) + '/preprocessing/data/6_5000/test_6_5000.csv'\n",
    "test_df = pd.read_csv(test_file_path)"
   ]
  },
  {
   "cell_type": "code",
   "execution_count": 23,
   "metadata": {},
   "outputs": [],
   "source": [
    "number_of_test_obs = test_df.shape[0]"
   ]
  },
  {
   "cell_type": "code",
   "execution_count": 24,
   "metadata": {},
   "outputs": [],
   "source": [
    "## converting the labels into unique integers\n",
    "test_df['label'] = test_df.label.astype('category').cat.codes"
   ]
  },
  {
   "cell_type": "code",
   "execution_count": 25,
   "metadata": {},
   "outputs": [],
   "source": [
    "## test_3_half.csv\n",
    "test_labels = test_df.pop('label')"
   ]
  },
  {
   "cell_type": "code",
   "execution_count": 26,
   "metadata": {},
   "outputs": [],
   "source": [
    "test_df = test_df / 255.0"
   ]
  },
  {
   "cell_type": "code",
   "execution_count": 27,
   "metadata": {},
   "outputs": [],
   "source": [
    "test_dataset = tf.data.Dataset.from_tensor_slices((test_df.values, test_labels.values))"
   ]
  },
  {
   "cell_type": "code",
   "execution_count": 28,
   "metadata": {},
   "outputs": [
    {
     "name": "stdout",
     "output_type": "stream",
     "text": [
      "Features: [0.00392157 0.73333333 0.9372549  ... 0.         0.         0.        ], Target: 5\n",
      "Features: [0.83529412 0.34509804 0.01568627 ... 0.         0.         0.        ], Target: 0\n",
      "Features: [0.72156863 0.3254902  0.         ... 0.73333333 0.8        0.7254902 ], Target: 0\n",
      "Features: [0.78823529 0.68235294 0.00392157 ... 0.         0.         0.        ], Target: 2\n",
      "Features: [0.00392157 0.73333333 0.73333333 ... 0.         0.         0.        ], Target: 5\n"
     ]
    }
   ],
   "source": [
    "## Just a quick test\n",
    "for feat, targ in test_dataset.take(5):\n",
    "    print('Features: {}, Target: {}'.format(feat, targ))"
   ]
  },
  {
   "cell_type": "code",
   "execution_count": 29,
   "metadata": {},
   "outputs": [],
   "source": [
    "test_dataset = test_dataset.shuffle(len(test_df), seed=seed_value).batch(BATCH_SIZE)"
   ]
  },
  {
   "cell_type": "markdown",
   "metadata": {},
   "source": [
    "## Create and train the NN"
   ]
  },
  {
   "cell_type": "code",
   "execution_count": 30,
   "metadata": {},
   "outputs": [],
   "source": [
    "def get_compiled_model():\n",
    "    model = tf.keras.Sequential([\n",
    "    tf.keras.layers.Dense(100, activation='relu'),\n",
    "    tf.keras.layers.Dense(100, activation='relu'),\n",
    "    tf.keras.layers.Dense(100, activation='relu'),\n",
    "    tf.keras.layers.Dense(6)\n",
    "    ])\n",
    "\n",
    "    model.compile(optimizer='adam',\n",
    "                loss=tf.keras.losses.SparseCategoricalCrossentropy(from_logits=True),\n",
    "                metrics=['accuracy'])\n",
    "    return model"
   ]
  },
  {
   "cell_type": "code",
   "execution_count": 31,
   "metadata": {
    "scrolled": true
   },
   "outputs": [
    {
     "name": "stdout",
     "output_type": "stream",
     "text": [
      "Train for 600 steps, validate for 150 steps\n",
      "Epoch 1/10\n",
      "600/600 [==============================] - 8s 13ms/step - loss: 0.9162 - accuracy: 0.6360 - val_loss: 0.6535 - val_accuracy: 0.7375\n",
      "Epoch 2/10\n",
      "600/600 [==============================] - 7s 12ms/step - loss: 0.5567 - accuracy: 0.7932 - val_loss: 0.5522 - val_accuracy: 0.7948\n",
      "Epoch 3/10\n",
      "600/600 [==============================] - 7s 12ms/step - loss: 0.4560 - accuracy: 0.8326 - val_loss: 0.5511 - val_accuracy: 0.7958\n",
      "Epoch 4/10\n",
      "600/600 [==============================] - 7s 12ms/step - loss: 0.3815 - accuracy: 0.8608 - val_loss: 0.4807 - val_accuracy: 0.8277\n",
      "Epoch 5/10\n",
      "600/600 [==============================] - 7s 12ms/step - loss: 0.3191 - accuracy: 0.8855 - val_loss: 0.4912 - val_accuracy: 0.8235\n",
      "Epoch 6/10\n",
      "600/600 [==============================] - 7s 12ms/step - loss: 0.2775 - accuracy: 0.9017 - val_loss: 0.4563 - val_accuracy: 0.8448\n",
      "Epoch 7/10\n",
      "600/600 [==============================] - 8s 13ms/step - loss: 0.2331 - accuracy: 0.9183 - val_loss: 0.4462 - val_accuracy: 0.8554\n",
      "Epoch 8/10\n",
      "600/600 [==============================] - 7s 12ms/step - loss: 0.2036 - accuracy: 0.9278 - val_loss: 0.4379 - val_accuracy: 0.8656\n",
      "Epoch 9/10\n",
      "600/600 [==============================] - 8s 13ms/step - loss: 0.1891 - accuracy: 0.9329 - val_loss: 0.4575 - val_accuracy: 0.8450\n",
      "Epoch 10/10\n",
      "600/600 [==============================] - 8s 13ms/step - loss: 0.1582 - accuracy: 0.9438 - val_loss: 0.7050 - val_accuracy: 0.8225\n"
     ]
    }
   ],
   "source": [
    "model = get_compiled_model()\n",
    "history = model.fit(train_dataset, epochs=10, validation_data = validation_dataset)"
   ]
  },
  {
   "cell_type": "code",
   "execution_count": 32,
   "metadata": {},
   "outputs": [
    {
     "name": "stdout",
     "output_type": "stream",
     "text": [
      "Model: \"sequential\"\n",
      "_________________________________________________________________\n",
      "Layer (type)                 Output Shape              Param #   \n",
      "=================================================================\n",
      "dense (Dense)                multiple                  148100    \n",
      "_________________________________________________________________\n",
      "dense_1 (Dense)              multiple                  10100     \n",
      "_________________________________________________________________\n",
      "dense_2 (Dense)              multiple                  10100     \n",
      "_________________________________________________________________\n",
      "dense_3 (Dense)              multiple                  606       \n",
      "=================================================================\n",
      "Total params: 168,906\n",
      "Trainable params: 168,906\n",
      "Non-trainable params: 0\n",
      "_________________________________________________________________\n"
     ]
    }
   ],
   "source": [
    "model.summary()"
   ]
  },
  {
   "cell_type": "markdown",
   "metadata": {},
   "source": [
    "## Plotting convergence"
   ]
  },
  {
   "cell_type": "code",
   "execution_count": 33,
   "metadata": {},
   "outputs": [
    {
     "data": {
      "text/plain": [
       "<matplotlib.legend.Legend at 0x7f3dd00cc4e0>"
      ]
     },
     "execution_count": 33,
     "metadata": {},
     "output_type": "execute_result"
    },
    {
     "data": {
      "image/png": "[encoded data removed]",
      "text/plain": [
       "<Figure size 432x288 with 1 Axes>"
      ]
     },
     "metadata": {
      "needs_background": "light"
     },
     "output_type": "display_data"
    }
   ],
   "source": [
    "plt.plot(history.history['loss'])\n",
    "plt.plot(history.history['val_loss'])\n",
    "plt.title('Convergence of the loss function')\n",
    "plt.xlabel('epochs')\n",
    "plt.ylabel('loss')\n",
    "plt.legend(['train','val'])"
   ]
  },
  {
   "cell_type": "code",
   "execution_count": 34,
   "metadata": {},
   "outputs": [
    {
     "data": {
      "text/plain": [
       "<matplotlib.legend.Legend at 0x7f3dcbfed7f0>"
      ]
     },
     "execution_count": 34,
     "metadata": {},
     "output_type": "execute_result"
    },
    {
     "data": {
      "image/png": "[encoded data removed]",
      "text/plain": [
       "<Figure size 432x288 with 1 Axes>"
      ]
     },
     "metadata": {
      "needs_background": "light"
     },
     "output_type": "display_data"
    }
   ],
   "source": [
    "plt.plot(history.history['accuracy'])\n",
    "plt.plot(history.history['val_accuracy'])\n",
    "plt.title('Convergence of the accuracy')\n",
    "plt.xlabel('epochs')\n",
    "plt.ylabel('accuracy')\n",
    "plt.legend(['train','val'])"
   ]
  },
  {
   "cell_type": "markdown",
   "metadata": {},
   "source": [
    "## Evaluate the model on the test set"
   ]
  },
  {
   "cell_type": "code",
   "execution_count": 35,
   "metadata": {},
   "outputs": [
    {
     "name": "stdout",
     "output_type": "stream",
     "text": [
      "188/188 [==============================] - 1s 5ms/step - loss: 0.6740 - accuracy: 0.8262\n"
     ]
    },
    {
     "data": {
      "text/plain": [
       "{'loss': 0.6739926918389949, 'accuracy': 0.8261667}"
      ]
     },
     "execution_count": 35,
     "metadata": {},
     "output_type": "execute_result"
    }
   ],
   "source": [
    "test_result = model.evaluate(test_dataset)\n",
    "dict(zip(model.metrics_names, test_result))"
   ]
  },
  {
   "cell_type": "markdown",
   "metadata": {},
   "source": [
    "# Evaluating resource consumption\n",
    "We will be evaluating the computational efficiency of a model by calculating amount of memory and time needed to make a prediction."
   ]
  },
  {
   "cell_type": "markdown",
   "metadata": {},
   "source": [
    "## Creating a sample packet"
   ]
  },
  {
   "cell_type": "code",
   "execution_count": 36,
   "metadata": {},
   "outputs": [],
   "source": [
    "sample_packet = []\n",
    "for i in range(1480):\n",
    "    sample_packet.append(random.random())"
   ]
  },
  {
   "cell_type": "markdown",
   "metadata": {},
   "source": [
    "## Memory"
   ]
  },
  {
   "cell_type": "code",
   "execution_count": 37,
   "metadata": {},
   "outputs": [],
   "source": [
    "import tracemalloc"
   ]
  },
  {
   "cell_type": "code",
   "execution_count": 38,
   "metadata": {},
   "outputs": [
    {
     "name": "stdout",
     "output_type": "stream",
     "text": [
      "The amount of memory needed to make a single preiction\n",
      "Current memory usage is 0.443665MB; Peak was 0.455901MB\n"
     ]
    }
   ],
   "source": [
    "tracemalloc.start()\n",
    "\n",
    "y_pred_test = model.predict(tf.expand_dims(sample_packet, 0))\n",
    "\n",
    "current, peak = tracemalloc.get_traced_memory()\n",
    "current = (current / 10**6)\n",
    "peak = (peak / 10**6)\n",
    "print(\"The amount of memory needed to make a single preiction\")\n",
    "print(f\"Current memory usage is {current}MB; Peak was {peak}MB\")\n",
    "tracemalloc.stop()"
   ]
  },
  {
   "cell_type": "markdown",
   "metadata": {},
   "source": [
    "## Time\n"
   ]
  },
  {
   "cell_type": "code",
   "execution_count": 39,
   "metadata": {},
   "outputs": [
    {
     "name": "stdout",
     "output_type": "stream",
     "text": [
      "The time taken to make a prediction: 0.0535275936126709\n"
     ]
    }
   ],
   "source": [
    "import time\n",
    "\n",
    "start = time.time()\n",
    "y_pred_test = model.predict(tf.expand_dims(sample_packet, 0))\n",
    "end = time.time()\n",
    "print(\"The time taken to make a prediction: {}\".format((end - start)))"
   ]
  }
 ],
 "metadata": {
  "kernelspec": {
   "display_name": "Python 3",
   "language": "python",
   "name": "python3"
  },
  "language_info": {
   "codemirror_mode": {
    "name": "ipython",
    "version": 3
   },
   "file_extension": ".py",
   "mimetype": "text/x-python",
   "name": "python",
   "nbconvert_exporter": "python",
   "pygments_lexer": "ipython3",
   "version": "3.6.10"
  }
 },
 "nbformat": 4,
 "nbformat_minor": 4
}
