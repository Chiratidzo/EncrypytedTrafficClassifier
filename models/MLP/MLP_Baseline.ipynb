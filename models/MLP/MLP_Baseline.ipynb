{
 "cells": [
  {
   "cell_type": "code",
   "execution_count": 1,
   "metadata": {},
   "outputs": [],
   "source": [
    "import pandas as pd\n",
    "import numpy as np\n",
    "import os\n",
    "import tensorflow as tf\n",
    "import matplotlib.pyplot as plt"
   ]
  },
  {
   "cell_type": "code",
   "execution_count": 2,
   "metadata": {},
   "outputs": [],
   "source": [
    "cwd = os.getcwd()"
   ]
  },
  {
   "cell_type": "markdown",
   "metadata": {},
   "source": [
    "## Creating pipeline"
   ]
  },
  {
   "cell_type": "code",
   "execution_count": 3,
   "metadata": {},
   "outputs": [],
   "source": [
    "BATCH_SIZE = 32"
   ]
  },
  {
   "cell_type": "markdown",
   "metadata": {},
   "source": [
    "### Creating train tf.data.dataset"
   ]
  },
  {
   "cell_type": "code",
   "execution_count": 4,
   "metadata": {},
   "outputs": [],
   "source": [
    "cwd = os.getcwd()\n",
    "train_file_path = '/'.join(cwd.split('/')[:-2]) + '/preprocessing/data/3_10000/train_3_10000.csv'\n",
    "train_df = pd.read_csv(train_file_path)"
   ]
  },
  {
   "cell_type": "code",
   "execution_count": 5,
   "metadata": {},
   "outputs": [],
   "source": [
    "## converting the labels into unique integers\n",
    "train_df['label'] = train_df.label.astype('category').cat.codes"
   ]
  },
  {
   "cell_type": "code",
   "execution_count": 6,
   "metadata": {},
   "outputs": [],
   "source": [
    "## train_3_half.csv\n",
    "train_labels = train_df.pop('label')\n",
    "train_dataset = tf.data.Dataset.from_tensor_slices((train_df.values, train_labels.values))"
   ]
  },
  {
   "cell_type": "code",
   "execution_count": 7,
   "metadata": {},
   "outputs": [
    {
     "name": "stdout",
     "output_type": "stream",
     "text": [
      "Features: [  1. 187. 242. ...   0.   0.   0.], Target: 2\n",
      "Features: [  1. 187. 231. ...   0.   0.   0.], Target: 1\n",
      "Features: [  1. 187. 242. ...   0.   0.   0.], Target: 2\n",
      "Features: [  1. 187. 240. ...   0.   0.   0.], Target: 2\n",
      "Features: [  1. 187. 243. ...   0.   0.   0.], Target: 2\n"
     ]
    }
   ],
   "source": [
    "## Just a quick test\n",
    "for feat, targ in train_dataset.take(5):\n",
    "    print('Features: {}, Target: {}'.format(feat, targ))"
   ]
  },
  {
   "cell_type": "code",
   "execution_count": 8,
   "metadata": {},
   "outputs": [],
   "source": [
    "train_dataset = train_dataset.shuffle(len(train_df)).batch(BATCH_SIZE)"
   ]
  },
  {
   "cell_type": "markdown",
   "metadata": {},
   "source": [
    "### Creating test tf.data.dataset"
   ]
  },
  {
   "cell_type": "code",
   "execution_count": 9,
   "metadata": {},
   "outputs": [],
   "source": [
    "test_file_path = '/'.join(cwd.split('/')[:-2]) + '/preprocessing/data/3_10000/test_3_10000.csv'\n",
    "test_df = pd.read_csv(test_file_path)"
   ]
  },
  {
   "cell_type": "code",
   "execution_count": 10,
   "metadata": {},
   "outputs": [],
   "source": [
    "## converting the labels into unique integers\n",
    "test_df['label'] = test_df.label.astype('category').cat.codes"
   ]
  },
  {
   "cell_type": "code",
   "execution_count": 11,
   "metadata": {},
   "outputs": [],
   "source": [
    "## test_3_half.csv\n",
    "test_labels = test_df.pop('label')\n",
    "test_dataset = tf.data.Dataset.from_tensor_slices((test_df.values, test_labels.values))"
   ]
  },
  {
   "cell_type": "code",
   "execution_count": 12,
   "metadata": {},
   "outputs": [
    {
     "name": "stdout",
     "output_type": "stream",
     "text": [
      "Features: [  1. 187. 244. ...   0.   0.   0.], Target: 0\n",
      "Features: [  1. 187. 163. ...   0.   0.   0.], Target: 0\n",
      "Features: [244. 126.   1. ...   0.   0.   0.], Target: 0\n",
      "Features: [  1. 187. 193. ...   0.   0.   0.], Target: 0\n",
      "Features: [  1. 187. 244. ...   0.   0.   0.], Target: 0\n"
     ]
    }
   ],
   "source": [
    "## Just a quick test\n",
    "for feat, targ in test_dataset.take(5):\n",
    "    print('Features: {}, Target: {}'.format(feat, targ))"
   ]
  },
  {
   "cell_type": "code",
   "execution_count": 13,
   "metadata": {},
   "outputs": [],
   "source": [
    "test_dataset = test_dataset.shuffle(len(test_df)).batch(BATCH_SIZE)"
   ]
  },
  {
   "cell_type": "markdown",
   "metadata": {},
   "source": [
    "## Create and train"
   ]
  },
  {
   "cell_type": "code",
   "execution_count": 14,
   "metadata": {},
   "outputs": [],
   "source": [
    "def get_compiled_model():\n",
    "    model = tf.keras.Sequential([\n",
    "    tf.keras.layers.Dense(100, activation='relu'),\n",
    "    tf.keras.layers.Dense(100, activation='relu'),\n",
    "    tf.keras.layers.Dense(3)\n",
    "    ])\n",
    "\n",
    "    model.compile(optimizer='adam',\n",
    "                loss=tf.keras.losses.SparseCategoricalCrossentropy(from_logits=True),\n",
    "                metrics=['accuracy'])\n",
    "    return model"
   ]
  },
  {
   "cell_type": "code",
   "execution_count": 15,
   "metadata": {},
   "outputs": [
    {
     "name": "stdout",
     "output_type": "stream",
     "text": [
      "Train for 750 steps\n",
      "Epoch 1/10\n",
      "750/750 [==============================] - 7s 10ms/step - loss: 2.5196 - accuracy: 0.7054\n",
      "Epoch 2/10\n",
      "750/750 [==============================] - 7s 10ms/step - loss: 0.5575 - accuracy: 0.8325\n",
      "Epoch 3/10\n",
      "750/750 [==============================] - 7s 10ms/step - loss: 0.4092 - accuracy: 0.8694\n",
      "Epoch 4/10\n",
      "750/750 [==============================] - 7s 10ms/step - loss: 0.4164 - accuracy: 0.8802\n",
      "Epoch 5/10\n",
      "750/750 [==============================] - 7s 10ms/step - loss: 0.3355 - accuracy: 0.8894\n",
      "Epoch 6/10\n",
      "750/750 [==============================] - 8s 10ms/step - loss: 0.2418 - accuracy: 0.9139\n",
      "Epoch 7/10\n",
      "750/750 [==============================] - 8s 10ms/step - loss: 0.2325 - accuracy: 0.9176\n",
      "Epoch 8/10\n",
      "750/750 [==============================] - 8s 11ms/step - loss: 0.2235 - accuracy: 0.9231\n",
      "Epoch 9/10\n",
      "750/750 [==============================] - 8s 10ms/step - loss: 0.2253 - accuracy: 0.9254\n",
      "Epoch 10/10\n",
      "750/750 [==============================] - 8s 10ms/step - loss: 0.2019 - accuracy: 0.9304\n"
     ]
    }
   ],
   "source": [
    "model = get_compiled_model()\n",
    "history = model.fit(train_dataset, epochs=10)"
   ]
  },
  {
   "cell_type": "markdown",
   "metadata": {},
   "source": [
    "## Plotting results"
   ]
  },
  {
   "cell_type": "code",
   "execution_count": 16,
   "metadata": {},
   "outputs": [
    {
     "data": {
      "text/plain": [
       "[<matplotlib.lines.Line2D at 0x7fe40be25748>]"
      ]
     },
     "execution_count": 16,
     "metadata": {},
     "output_type": "execute_result"
    },
    {
     "data": {
      "image/png": "[encoded data removed]",
      "text/plain": [
       "<Figure size 432x288 with 1 Axes>"
      ]
     },
     "metadata": {
      "needs_background": "light"
     },
     "output_type": "display_data"
    }
   ],
   "source": [
    "plt.plot(history.history['loss'])"
   ]
  },
  {
   "cell_type": "markdown",
   "metadata": {},
   "source": [
    "## Evaluate the model"
   ]
  },
  {
   "cell_type": "code",
   "execution_count": 17,
   "metadata": {},
   "outputs": [
    {
     "name": "stdout",
     "output_type": "stream",
     "text": [
      "188/188 [==============================] - 1s 5ms/step - loss: 0.2543 - accuracy: 0.9218\n"
     ]
    },
    {
     "data": {
      "text/plain": [
       "{'loss': 0.25425077480402714, 'accuracy': 0.92183334}"
      ]
     },
     "execution_count": 17,
     "metadata": {},
     "output_type": "execute_result"
    }
   ],
   "source": [
    "test_result = model.evaluate(test_dataset)\n",
    "dict(zip(model.metrics_names, test_result))"
   ]
  }
 ],
 "metadata": {
  "kernelspec": {
   "display_name": "Python 3",
   "language": "python",
   "name": "python3"
  },
  "language_info": {
   "codemirror_mode": {
    "name": "ipython",
    "version": 3
   },
   "file_extension": ".py",
   "mimetype": "text/x-python",
   "name": "python",
   "nbconvert_exporter": "python",
   "pygments_lexer": "ipython3",
   "version": "3.6.10"
  }
 },
 "nbformat": 4,
 "nbformat_minor": 4
}
