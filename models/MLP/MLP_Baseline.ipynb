{
 "cells": [
  {
   "cell_type": "code",
   "execution_count": 1,
   "metadata": {},
   "outputs": [],
   "source": [
    "import pandas as pd\n",
    "import numpy as np\n",
    "import os\n",
    "import tensorflow as tf\n",
    "import matplotlib.pyplot as plt"
   ]
  },
  {
   "cell_type": "code",
   "execution_count": 2,
   "metadata": {},
   "outputs": [],
   "source": [
    "cwd = os.getcwd()"
   ]
  },
  {
   "cell_type": "code",
   "execution_count": 3,
   "metadata": {},
   "outputs": [],
   "source": [
    "# you dont need this on your machines\n",
    "import os\n",
    "os.environ['KMP_DUPLICATE_LIB_OK']='True'"
   ]
  },
  {
   "cell_type": "markdown",
   "metadata": {},
   "source": [
    "## Creating pipeline"
   ]
  },
  {
   "cell_type": "code",
   "execution_count": 4,
   "metadata": {},
   "outputs": [],
   "source": [
    "BATCH_SIZE = 32"
   ]
  },
  {
   "cell_type": "markdown",
   "metadata": {},
   "source": [
    "### Creating train tf.data.dataset"
   ]
  },
  {
   "cell_type": "code",
   "execution_count": 5,
   "metadata": {},
   "outputs": [],
   "source": [
    "cwd = os.getcwd()\n",
    "train_file_path = '/'.join(cwd.split('/')[:-2]) + '/preprocessing/data/3_10000/train_3_10000.csv'\n",
    "train_df = pd.read_csv(train_file_path)"
   ]
  },
  {
   "cell_type": "code",
   "execution_count": 6,
   "metadata": {},
   "outputs": [],
   "source": [
    "## converting the labels into unique integers\n",
    "train_df['label'] = train_df.label.astype('category').cat.codes"
   ]
  },
  {
   "cell_type": "code",
   "execution_count": 7,
   "metadata": {},
   "outputs": [],
   "source": [
    "## train_3_half.csv\n",
    "train_labels = train_df.pop('label')"
   ]
  },
  {
   "cell_type": "code",
   "execution_count": 8,
   "metadata": {},
   "outputs": [],
   "source": [
    "train_df = train_df / 255.0"
   ]
  },
  {
   "cell_type": "code",
   "execution_count": 9,
   "metadata": {},
   "outputs": [
    {
     "data": {
      "text/html": [
       "<div>\n",
       "<style scoped>\n",
       "    .dataframe tbody tr th:only-of-type {\n",
       "        vertical-align: middle;\n",
       "    }\n",
       "\n",
       "    .dataframe tbody tr th {\n",
       "        vertical-align: top;\n",
       "    }\n",
       "\n",
       "    .dataframe thead th {\n",
       "        text-align: right;\n",
       "    }\n",
       "</style>\n",
       "<table border=\"1\" class=\"dataframe\">\n",
       "  <thead>\n",
       "    <tr style=\"text-align: right;\">\n",
       "      <th></th>\n",
       "      <th>byte1</th>\n",
       "      <th>byte2</th>\n",
       "      <th>byte3</th>\n",
       "      <th>byte4</th>\n",
       "      <th>byte5</th>\n",
       "      <th>byte6</th>\n",
       "      <th>byte7</th>\n",
       "      <th>byte8</th>\n",
       "      <th>byte9</th>\n",
       "      <th>byte10</th>\n",
       "      <th>...</th>\n",
       "      <th>byte1472</th>\n",
       "      <th>byte1473</th>\n",
       "      <th>byte1474</th>\n",
       "      <th>byte1475</th>\n",
       "      <th>byte1476</th>\n",
       "      <th>byte1477</th>\n",
       "      <th>byte1478</th>\n",
       "      <th>byte1479</th>\n",
       "      <th>byte1480</th>\n",
       "      <th>packet_length</th>\n",
       "    </tr>\n",
       "  </thead>\n",
       "  <tbody>\n",
       "    <tr>\n",
       "      <th>0</th>\n",
       "      <td>0.003922</td>\n",
       "      <td>0.733333</td>\n",
       "      <td>0.854902</td>\n",
       "      <td>0.839216</td>\n",
       "      <td>0.462745</td>\n",
       "      <td>0.501961</td>\n",
       "      <td>0.411765</td>\n",
       "      <td>0.894118</td>\n",
       "      <td>0.862745</td>\n",
       "      <td>0.231373</td>\n",
       "      <td>...</td>\n",
       "      <td>0.000000</td>\n",
       "      <td>0.0</td>\n",
       "      <td>0.0</td>\n",
       "      <td>0.0</td>\n",
       "      <td>0.0</td>\n",
       "      <td>0.0</td>\n",
       "      <td>0.0</td>\n",
       "      <td>0.0</td>\n",
       "      <td>0.0</td>\n",
       "      <td>5.600000</td>\n",
       "    </tr>\n",
       "    <tr>\n",
       "      <th>1</th>\n",
       "      <td>0.003922</td>\n",
       "      <td>0.733333</td>\n",
       "      <td>0.611765</td>\n",
       "      <td>0.086275</td>\n",
       "      <td>0.349020</td>\n",
       "      <td>0.666667</td>\n",
       "      <td>0.949020</td>\n",
       "      <td>0.149020</td>\n",
       "      <td>0.537255</td>\n",
       "      <td>0.752941</td>\n",
       "      <td>...</td>\n",
       "      <td>0.000000</td>\n",
       "      <td>0.0</td>\n",
       "      <td>0.0</td>\n",
       "      <td>0.0</td>\n",
       "      <td>0.0</td>\n",
       "      <td>0.0</td>\n",
       "      <td>0.0</td>\n",
       "      <td>0.0</td>\n",
       "      <td>0.0</td>\n",
       "      <td>5.733333</td>\n",
       "    </tr>\n",
       "    <tr>\n",
       "      <th>2</th>\n",
       "      <td>0.003922</td>\n",
       "      <td>0.733333</td>\n",
       "      <td>0.925490</td>\n",
       "      <td>0.403922</td>\n",
       "      <td>0.905882</td>\n",
       "      <td>0.360784</td>\n",
       "      <td>0.411765</td>\n",
       "      <td>0.403922</td>\n",
       "      <td>0.694118</td>\n",
       "      <td>0.760784</td>\n",
       "      <td>...</td>\n",
       "      <td>0.000000</td>\n",
       "      <td>0.0</td>\n",
       "      <td>0.0</td>\n",
       "      <td>0.0</td>\n",
       "      <td>0.0</td>\n",
       "      <td>0.0</td>\n",
       "      <td>0.0</td>\n",
       "      <td>0.0</td>\n",
       "      <td>0.0</td>\n",
       "      <td>5.600000</td>\n",
       "    </tr>\n",
       "    <tr>\n",
       "      <th>3</th>\n",
       "      <td>0.003922</td>\n",
       "      <td>0.733333</td>\n",
       "      <td>0.733333</td>\n",
       "      <td>0.270588</td>\n",
       "      <td>0.635294</td>\n",
       "      <td>0.909804</td>\n",
       "      <td>0.113725</td>\n",
       "      <td>0.015686</td>\n",
       "      <td>0.313725</td>\n",
       "      <td>0.666667</td>\n",
       "      <td>...</td>\n",
       "      <td>0.505882</td>\n",
       "      <td>0.0</td>\n",
       "      <td>0.0</td>\n",
       "      <td>0.0</td>\n",
       "      <td>0.0</td>\n",
       "      <td>0.0</td>\n",
       "      <td>0.0</td>\n",
       "      <td>0.0</td>\n",
       "      <td>0.0</td>\n",
       "      <td>5.772549</td>\n",
       "    </tr>\n",
       "    <tr>\n",
       "      <th>4</th>\n",
       "      <td>0.003922</td>\n",
       "      <td>0.733333</td>\n",
       "      <td>0.835294</td>\n",
       "      <td>0.878431</td>\n",
       "      <td>0.356863</td>\n",
       "      <td>0.623529</td>\n",
       "      <td>0.600000</td>\n",
       "      <td>0.474510</td>\n",
       "      <td>0.792157</td>\n",
       "      <td>0.145098</td>\n",
       "      <td>...</td>\n",
       "      <td>0.717647</td>\n",
       "      <td>0.0</td>\n",
       "      <td>0.0</td>\n",
       "      <td>0.0</td>\n",
       "      <td>0.0</td>\n",
       "      <td>0.0</td>\n",
       "      <td>0.0</td>\n",
       "      <td>0.0</td>\n",
       "      <td>0.0</td>\n",
       "      <td>5.772549</td>\n",
       "    </tr>\n",
       "  </tbody>\n",
       "</table>\n",
       "<p>5 rows × 1481 columns</p>\n",
       "</div>"
      ],
      "text/plain": [
       "      byte1     byte2     byte3     byte4     byte5     byte6     byte7  \\\n",
       "0  0.003922  0.733333  0.854902  0.839216  0.462745  0.501961  0.411765   \n",
       "1  0.003922  0.733333  0.611765  0.086275  0.349020  0.666667  0.949020   \n",
       "2  0.003922  0.733333  0.925490  0.403922  0.905882  0.360784  0.411765   \n",
       "3  0.003922  0.733333  0.733333  0.270588  0.635294  0.909804  0.113725   \n",
       "4  0.003922  0.733333  0.835294  0.878431  0.356863  0.623529  0.600000   \n",
       "\n",
       "      byte8     byte9    byte10  ...  byte1472  byte1473  byte1474  byte1475  \\\n",
       "0  0.894118  0.862745  0.231373  ...  0.000000       0.0       0.0       0.0   \n",
       "1  0.149020  0.537255  0.752941  ...  0.000000       0.0       0.0       0.0   \n",
       "2  0.403922  0.694118  0.760784  ...  0.000000       0.0       0.0       0.0   \n",
       "3  0.015686  0.313725  0.666667  ...  0.505882       0.0       0.0       0.0   \n",
       "4  0.474510  0.792157  0.145098  ...  0.717647       0.0       0.0       0.0   \n",
       "\n",
       "   byte1476  byte1477  byte1478  byte1479  byte1480  packet_length  \n",
       "0       0.0       0.0       0.0       0.0       0.0       5.600000  \n",
       "1       0.0       0.0       0.0       0.0       0.0       5.733333  \n",
       "2       0.0       0.0       0.0       0.0       0.0       5.600000  \n",
       "3       0.0       0.0       0.0       0.0       0.0       5.772549  \n",
       "4       0.0       0.0       0.0       0.0       0.0       5.772549  \n",
       "\n",
       "[5 rows x 1481 columns]"
      ]
     },
     "execution_count": 9,
     "metadata": {},
     "output_type": "execute_result"
    }
   ],
   "source": [
    "train_df.head()"
   ]
  },
  {
   "cell_type": "code",
   "execution_count": 10,
   "metadata": {},
   "outputs": [],
   "source": [
    "train_df = train_df.drop('packet_length', axis = 1)"
   ]
  },
  {
   "cell_type": "code",
   "execution_count": 11,
   "metadata": {},
   "outputs": [],
   "source": [
    "train_dataset = tf.data.Dataset.from_tensor_slices((train_df.values, train_labels.values))"
   ]
  },
  {
   "cell_type": "code",
   "execution_count": 12,
   "metadata": {},
   "outputs": [
    {
     "name": "stdout",
     "output_type": "stream",
     "text": [
      "Features: [0.00392157 0.73333333 0.85490196 ... 0.         0.         0.        ], Target: 2\n",
      "Features: [0.00392157 0.73333333 0.61176471 ... 0.         0.         0.        ], Target: 2\n",
      "Features: [0.00392157 0.73333333 0.9254902  ... 0.         0.         0.        ], Target: 2\n",
      "Features: [0.00392157 0.73333333 0.73333333 ... 0.         0.         0.        ], Target: 2\n",
      "Features: [0.00392157 0.73333333 0.83529412 ... 0.         0.         0.        ], Target: 2\n"
     ]
    }
   ],
   "source": [
    "## Just a quick test\n",
    "for feat, targ in train_dataset.take(5):\n",
    "    print('Features: {}, Target: {}'.format(feat, targ))"
   ]
  },
  {
   "cell_type": "code",
   "execution_count": 13,
   "metadata": {},
   "outputs": [],
   "source": [
    "train_dataset = train_dataset.shuffle(len(train_df)).batch(BATCH_SIZE)"
   ]
  },
  {
   "cell_type": "markdown",
   "metadata": {},
   "source": [
    "## Creating validation tf.data.dataset"
   ]
  },
  {
   "cell_type": "code",
   "execution_count": 14,
   "metadata": {},
   "outputs": [],
   "source": [
    "validation_file_path = '/'.join(cwd.split('/')[:-2]) + '/preprocessing/data/3_10000/val_3_10000.csv'\n",
    "validation_df = pd.read_csv(validation_file_path)"
   ]
  },
  {
   "cell_type": "code",
   "execution_count": 15,
   "metadata": {},
   "outputs": [],
   "source": [
    "## converting the labels into unique integers\n",
    "validation_df['label'] = validation_df.label.astype('category').cat.codes"
   ]
  },
  {
   "cell_type": "code",
   "execution_count": 16,
   "metadata": {},
   "outputs": [],
   "source": [
    "## train_3_half.csv\n",
    "validation_labels = validation_df.pop('label')"
   ]
  },
  {
   "cell_type": "code",
   "execution_count": 17,
   "metadata": {},
   "outputs": [],
   "source": [
    "validation_df = validation_df / 255.0"
   ]
  },
  {
   "cell_type": "code",
   "execution_count": 18,
   "metadata": {},
   "outputs": [],
   "source": [
    "validation_df = validation_df.drop('packet_length', axis = 1)"
   ]
  },
  {
   "cell_type": "code",
   "execution_count": 19,
   "metadata": {},
   "outputs": [],
   "source": [
    "validation_dataset = tf.data.Dataset.from_tensor_slices((validation_df.values, validation_labels.values))"
   ]
  },
  {
   "cell_type": "code",
   "execution_count": 20,
   "metadata": {},
   "outputs": [
    {
     "name": "stdout",
     "output_type": "stream",
     "text": [
      "Features: [0.00392157 0.73333333 0.7254902  ... 0.         0.         0.        ], Target: 1\n",
      "Features: [0.00392157 0.73333333 0.76078431 ... 0.         0.         0.        ], Target: 0\n",
      "Features: [0.00392157 0.73333333 0.95686275 ... 0.         0.         0.        ], Target: 0\n",
      "Features: [0.94117647 0.22745098 0.00392157 ... 0.         0.         0.        ], Target: 2\n",
      "Features: [0.00392157 0.73333333 0.6627451  ... 0.         0.         0.        ], Target: 2\n"
     ]
    }
   ],
   "source": [
    "## Just a quick test\n",
    "for feat, targ in validation_dataset.take(5):\n",
    "    print('Features: {}, Target: {}'.format(feat, targ))"
   ]
  },
  {
   "cell_type": "code",
   "execution_count": 21,
   "metadata": {},
   "outputs": [],
   "source": [
    "validation_dataset = validation_dataset.shuffle(len(validation_df)).batch(BATCH_SIZE)"
   ]
  },
  {
   "cell_type": "markdown",
   "metadata": {},
   "source": [
    "### Creating test tf.data.dataset"
   ]
  },
  {
   "cell_type": "code",
   "execution_count": 22,
   "metadata": {},
   "outputs": [],
   "source": [
    "test_file_path = '/'.join(cwd.split('/')[:-2]) + '/preprocessing/data/3_10000/test_3_10000.csv'\n",
    "test_df = pd.read_csv(test_file_path)"
   ]
  },
  {
   "cell_type": "code",
   "execution_count": 23,
   "metadata": {},
   "outputs": [],
   "source": [
    "## converting the labels into unique integers\n",
    "test_df['label'] = test_df.label.astype('category').cat.codes"
   ]
  },
  {
   "cell_type": "code",
   "execution_count": 24,
   "metadata": {},
   "outputs": [],
   "source": [
    "## test_3_half.csv\n",
    "test_labels = test_df.pop('label')"
   ]
  },
  {
   "cell_type": "code",
   "execution_count": 25,
   "metadata": {},
   "outputs": [],
   "source": [
    "test_df = test_df / 255.0"
   ]
  },
  {
   "cell_type": "code",
   "execution_count": 26,
   "metadata": {},
   "outputs": [],
   "source": [
    "test_df = test_df.drop('packet_length', axis = 1)"
   ]
  },
  {
   "cell_type": "code",
   "execution_count": 27,
   "metadata": {},
   "outputs": [],
   "source": [
    "test_dataset = tf.data.Dataset.from_tensor_slices((test_df.values, test_labels.values))"
   ]
  },
  {
   "cell_type": "code",
   "execution_count": 28,
   "metadata": {},
   "outputs": [
    {
     "name": "stdout",
     "output_type": "stream",
     "text": [
      "Features: [0.00392157 0.73333333 0.9372549  ... 0.         0.         0.        ], Target: 2\n",
      "Features: [0.00392157 0.73333333 0.53333333 ... 0.         0.         0.        ], Target: 1\n",
      "Features: [0.00392157 0.73333333 0.53333333 ... 0.         0.         0.        ], Target: 1\n",
      "Features: [0.00392157 0.73333333 0.53333333 ... 0.         0.         0.        ], Target: 1\n",
      "Features: [0.00392157 0.73333333 0.73333333 ... 0.         0.         0.        ], Target: 2\n"
     ]
    }
   ],
   "source": [
    "## Just a quick test\n",
    "for feat, targ in test_dataset.take(5):\n",
    "    print('Features: {}, Target: {}'.format(feat, targ))"
   ]
  },
  {
   "cell_type": "code",
   "execution_count": 29,
   "metadata": {},
   "outputs": [],
   "source": [
    "test_dataset = test_dataset.shuffle(len(test_df)).batch(BATCH_SIZE)"
   ]
  },
  {
   "cell_type": "markdown",
   "metadata": {},
   "source": [
    "## Create and train the NN"
   ]
  },
  {
   "cell_type": "code",
   "execution_count": 30,
   "metadata": {},
   "outputs": [],
   "source": [
    "def get_compiled_model():\n",
    "    model = tf.keras.Sequential([\n",
    "    tf.keras.layers.Dense(100, activation='relu'),\n",
    "    tf.keras.layers.Dense(100, activation='relu'),\n",
    "    tf.keras.layers.Dense(100, activation='relu'),\n",
    "    tf.keras.layers.Dense(3)\n",
    "    ])\n",
    "\n",
    "    model.compile(optimizer='adam',\n",
    "                loss=tf.keras.losses.SparseCategoricalCrossentropy(from_logits=True),\n",
    "                metrics=['accuracy'])\n",
    "    return model"
   ]
  },
  {
   "cell_type": "code",
   "execution_count": 31,
   "metadata": {
    "scrolled": true
   },
   "outputs": [
    {
     "name": "stdout",
     "output_type": "stream",
     "text": [
      "Train for 600 steps, validate for 150 steps\n",
      "Epoch 1/20\n",
      "600/600 [==============================] - 8s 13ms/step - loss: 0.4782 - accuracy: 0.8056 - val_loss: 0.3927 - val_accuracy: 0.8527\n",
      "Epoch 2/20\n",
      "600/600 [==============================] - 7s 12ms/step - loss: 0.2630 - accuracy: 0.9031 - val_loss: 0.2658 - val_accuracy: 0.8965\n",
      "Epoch 3/20\n",
      "600/600 [==============================] - 8s 14ms/step - loss: 0.2047 - accuracy: 0.9246 - val_loss: 0.2957 - val_accuracy: 0.8929\n",
      "Epoch 4/20\n",
      "600/600 [==============================] - 8s 13ms/step - loss: 0.1734 - accuracy: 0.9354 - val_loss: 0.3291 - val_accuracy: 0.8650\n",
      "Epoch 5/20\n",
      "600/600 [==============================] - 7s 12ms/step - loss: 0.1488 - accuracy: 0.9457 - val_loss: 0.2269 - val_accuracy: 0.9187\n",
      "Epoch 6/20\n",
      "600/600 [==============================] - 8s 14ms/step - loss: 0.1314 - accuracy: 0.9503 - val_loss: 0.2512 - val_accuracy: 0.9167\n",
      "Epoch 7/20\n",
      "600/600 [==============================] - 8s 13ms/step - loss: 0.1112 - accuracy: 0.9585 - val_loss: 0.2420 - val_accuracy: 0.9192\n",
      "Epoch 8/20\n",
      "600/600 [==============================] - 7s 12ms/step - loss: 0.1079 - accuracy: 0.9573 - val_loss: 0.2306 - val_accuracy: 0.9198\n",
      "Epoch 9/20\n",
      "600/600 [==============================] - 8s 13ms/step - loss: 0.0920 - accuracy: 0.9663 - val_loss: 0.2681 - val_accuracy: 0.9154\n",
      "Epoch 10/20\n",
      "600/600 [==============================] - 7s 11ms/step - loss: 0.0925 - accuracy: 0.9658 - val_loss: 0.2521 - val_accuracy: 0.9152\n",
      "Epoch 11/20\n",
      "600/600 [==============================] - 8s 13ms/step - loss: 0.0779 - accuracy: 0.9726 - val_loss: 0.2485 - val_accuracy: 0.9221\n",
      "Epoch 12/20\n",
      "600/600 [==============================] - 8s 13ms/step - loss: 0.0734 - accuracy: 0.9720 - val_loss: 0.2908 - val_accuracy: 0.9098\n",
      "Epoch 13/20\n",
      "600/600 [==============================] - 8s 14ms/step - loss: 0.0762 - accuracy: 0.9719 - val_loss: 0.2488 - val_accuracy: 0.9252\n",
      "Epoch 14/20\n",
      "600/600 [==============================] - 9s 15ms/step - loss: 0.0562 - accuracy: 0.9781 - val_loss: 0.3297 - val_accuracy: 0.9198\n",
      "Epoch 15/20\n",
      "600/600 [==============================] - 9s 15ms/step - loss: 0.0586 - accuracy: 0.9773 - val_loss: 0.3679 - val_accuracy: 0.9013\n",
      "Epoch 16/20\n",
      "600/600 [==============================] - 8s 14ms/step - loss: 0.0632 - accuracy: 0.9766 - val_loss: 0.3907 - val_accuracy: 0.8929\n",
      "Epoch 17/20\n",
      "600/600 [==============================] - 9s 16ms/step - loss: 0.0636 - accuracy: 0.9766 - val_loss: 0.3029 - val_accuracy: 0.9090\n",
      "Epoch 18/20\n",
      "600/600 [==============================] - 8s 13ms/step - loss: 0.0443 - accuracy: 0.9834 - val_loss: 0.4000 - val_accuracy: 0.9171\n",
      "Epoch 19/20\n",
      "600/600 [==============================] - 8s 14ms/step - loss: 0.0488 - accuracy: 0.9822 - val_loss: 0.3415 - val_accuracy: 0.9177\n",
      "Epoch 20/20\n",
      "600/600 [==============================] - 8s 13ms/step - loss: 0.0491 - accuracy: 0.9814 - val_loss: 0.3235 - val_accuracy: 0.9210\n"
     ]
    }
   ],
   "source": [
    "model = get_compiled_model()\n",
    "history = model.fit(train_dataset, epochs=20, validation_data = validation_dataset)"
   ]
  },
  {
   "cell_type": "markdown",
   "metadata": {},
   "source": [
    "## Plotting convergence"
   ]
  },
  {
   "cell_type": "code",
   "execution_count": 32,
   "metadata": {},
   "outputs": [
    {
     "data": {
      "text/plain": [
       "<matplotlib.legend.Legend at 0x7f28f0e3fcf8>"
      ]
     },
     "execution_count": 32,
     "metadata": {},
     "output_type": "execute_result"
    },
    {
     "data": {
      "image/png": "[encoded data removed]",
      "text/plain": [
       "<Figure size 432x288 with 1 Axes>"
      ]
     },
     "metadata": {
      "needs_background": "light"
     },
     "output_type": "display_data"
    }
   ],
   "source": [
    "plt.plot(history.history['loss'])\n",
    "plt.plot(history.history['val_loss'])\n",
    "plt.title('Convergence of the loss function')\n",
    "plt.xlabel('epochs')\n",
    "plt.ylabel('loss')\n",
    "plt.legend(['train','val'])"
   ]
  },
  {
   "cell_type": "code",
   "execution_count": 33,
   "metadata": {},
   "outputs": [
    {
     "data": {
      "text/plain": [
       "<matplotlib.legend.Legend at 0x7f28f0dda438>"
      ]
     },
     "execution_count": 33,
     "metadata": {},
     "output_type": "execute_result"
    },
    {
     "data": {
      "image/png": "[encoded data removed]",
      "text/plain": [
       "<Figure size 432x288 with 1 Axes>"
      ]
     },
     "metadata": {
      "needs_background": "light"
     },
     "output_type": "display_data"
    }
   ],
   "source": [
    "plt.plot(history.history['accuracy'])\n",
    "plt.plot(history.history['val_accuracy'])\n",
    "plt.title('Convergence of the accuracy')\n",
    "plt.xlabel('epochs')\n",
    "plt.ylabel('accuracy')\n",
    "plt.legend(['train','val'])"
   ]
  },
  {
   "cell_type": "markdown",
   "metadata": {},
   "source": [
    "## Evaluate the model on the test set"
   ]
  },
  {
   "cell_type": "code",
   "execution_count": 34,
   "metadata": {},
   "outputs": [
    {
     "name": "stdout",
     "output_type": "stream",
     "text": [
      "188/188 [==============================] - 1s 5ms/step - loss: 0.2886 - accuracy: 0.9302\n"
     ]
    },
    {
     "data": {
      "text/plain": [
       "{'loss': 0.2886311972038226, 'accuracy': 0.93016666}"
      ]
     },
     "execution_count": 34,
     "metadata": {},
     "output_type": "execute_result"
    }
   ],
   "source": [
    "test_result = model.evaluate(test_dataset)\n",
    "dict(zip(model.metrics_names, test_result))"
   ]
  },
  {
   "cell_type": "code",
   "execution_count": null,
   "metadata": {},
   "outputs": [],
   "source": []
  }
 ],
 "metadata": {
  "kernelspec": {
   "display_name": "Python 3",
   "language": "python",
   "name": "python3"
  },
  "language_info": {
   "codemirror_mode": {
    "name": "ipython",
    "version": 3
   },
   "file_extension": ".py",
   "mimetype": "text/x-python",
   "name": "python",
   "nbconvert_exporter": "python",
   "pygments_lexer": "ipython3",
   "version": "3.6.10"
  }
 },
 "nbformat": 4,
 "nbformat_minor": 4
}
