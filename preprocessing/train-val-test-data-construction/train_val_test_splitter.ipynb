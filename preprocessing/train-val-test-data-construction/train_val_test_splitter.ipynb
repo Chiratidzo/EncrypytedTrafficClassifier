{
 "cells": [
  {
   "cell_type": "markdown",
   "metadata": {
    "ExecuteTime": {
     "end_time": "2020-08-11T13:08:27.764566Z",
     "start_time": "2020-08-11T13:08:27.738410Z"
    }
   },
   "source": [
    "# EDA"
   ]
  },
  {
   "cell_type": "code",
   "execution_count": 1,
   "metadata": {
    "ExecuteTime": {
     "end_time": "2020-08-13T07:39:21.746265Z",
     "start_time": "2020-08-13T07:39:19.385649Z"
    }
   },
   "outputs": [],
   "source": [
    "import pandas as pd\n",
    "import matplotlib.pyplot as plt\n",
    "from sklearn.model_selection import train_test_split\n",
    "import seaborn as sns"
   ]
  },
  {
   "cell_type": "code",
   "execution_count": 2,
   "metadata": {
    "ExecuteTime": {
     "end_time": "2020-08-13T07:40:42.188095Z",
     "start_time": "2020-08-13T07:39:21.749129Z"
    }
   },
   "outputs": [],
   "source": [
    "df = pd.read_csv('../data/data.csv') # read in the csv witth byte_array - label pairs"
   ]
  },
  {
   "cell_type": "code",
   "execution_count": 3,
   "metadata": {
    "ExecuteTime": {
     "end_time": "2020-08-13T07:41:05.438755Z",
     "start_time": "2020-08-13T07:41:05.323998Z"
    }
   },
   "outputs": [
    {
     "name": "stdout",
     "output_type": "stream",
     "text": [
      "Number of packets: 283110\n"
     ]
    },
    {
     "data": {
      "text/html": [
       "<div>\n",
       "<style scoped>\n",
       "    .dataframe tbody tr th:only-of-type {\n",
       "        vertical-align: middle;\n",
       "    }\n",
       "\n",
       "    .dataframe tbody tr th {\n",
       "        vertical-align: top;\n",
       "    }\n",
       "\n",
       "    .dataframe thead th {\n",
       "        text-align: right;\n",
       "    }\n",
       "</style>\n",
       "<table border=\"1\" class=\"dataframe\">\n",
       "  <thead>\n",
       "    <tr style=\"text-align: right;\">\n",
       "      <th></th>\n",
       "      <th>label</th>\n",
       "      <th>byte1</th>\n",
       "      <th>byte2</th>\n",
       "      <th>byte3</th>\n",
       "      <th>byte4</th>\n",
       "      <th>byte5</th>\n",
       "      <th>byte6</th>\n",
       "      <th>byte7</th>\n",
       "      <th>byte8</th>\n",
       "      <th>byte9</th>\n",
       "      <th>...</th>\n",
       "      <th>byte1471</th>\n",
       "      <th>byte1472</th>\n",
       "      <th>byte1473</th>\n",
       "      <th>byte1474</th>\n",
       "      <th>byte1475</th>\n",
       "      <th>byte1476</th>\n",
       "      <th>byte1477</th>\n",
       "      <th>byte1478</th>\n",
       "      <th>byte1479</th>\n",
       "      <th>byte1480</th>\n",
       "    </tr>\n",
       "  </thead>\n",
       "  <tbody>\n",
       "    <tr>\n",
       "      <th>0</th>\n",
       "      <td>TeamViewer</td>\n",
       "      <td>136</td>\n",
       "      <td>10</td>\n",
       "      <td>23</td>\n",
       "      <td>50</td>\n",
       "      <td>81</td>\n",
       "      <td>180</td>\n",
       "      <td>33</td>\n",
       "      <td>162</td>\n",
       "      <td>145</td>\n",
       "      <td>...</td>\n",
       "      <td>NaN</td>\n",
       "      <td>NaN</td>\n",
       "      <td>NaN</td>\n",
       "      <td>NaN</td>\n",
       "      <td>NaN</td>\n",
       "      <td>NaN</td>\n",
       "      <td>NaN</td>\n",
       "      <td>NaN</td>\n",
       "      <td>NaN</td>\n",
       "      <td>NaN</td>\n",
       "    </tr>\n",
       "    <tr>\n",
       "      <th>1</th>\n",
       "      <td>TeamViewer</td>\n",
       "      <td>23</td>\n",
       "      <td>50</td>\n",
       "      <td>136</td>\n",
       "      <td>10</td>\n",
       "      <td>145</td>\n",
       "      <td>225</td>\n",
       "      <td>58</td>\n",
       "      <td>15</td>\n",
       "      <td>81</td>\n",
       "      <td>...</td>\n",
       "      <td>NaN</td>\n",
       "      <td>NaN</td>\n",
       "      <td>NaN</td>\n",
       "      <td>NaN</td>\n",
       "      <td>NaN</td>\n",
       "      <td>NaN</td>\n",
       "      <td>NaN</td>\n",
       "      <td>NaN</td>\n",
       "      <td>NaN</td>\n",
       "      <td>NaN</td>\n",
       "    </tr>\n",
       "    <tr>\n",
       "      <th>2</th>\n",
       "      <td>TeamViewer</td>\n",
       "      <td>23</td>\n",
       "      <td>50</td>\n",
       "      <td>136</td>\n",
       "      <td>10</td>\n",
       "      <td>145</td>\n",
       "      <td>225</td>\n",
       "      <td>58</td>\n",
       "      <td>15</td>\n",
       "      <td>81</td>\n",
       "      <td>...</td>\n",
       "      <td>NaN</td>\n",
       "      <td>NaN</td>\n",
       "      <td>NaN</td>\n",
       "      <td>NaN</td>\n",
       "      <td>NaN</td>\n",
       "      <td>NaN</td>\n",
       "      <td>NaN</td>\n",
       "      <td>NaN</td>\n",
       "      <td>NaN</td>\n",
       "      <td>NaN</td>\n",
       "    </tr>\n",
       "    <tr>\n",
       "      <th>3</th>\n",
       "      <td>TeamViewer</td>\n",
       "      <td>145</td>\n",
       "      <td>58</td>\n",
       "      <td>23</td>\n",
       "      <td>50</td>\n",
       "      <td>191</td>\n",
       "      <td>255</td>\n",
       "      <td>24</td>\n",
       "      <td>32</td>\n",
       "      <td>209</td>\n",
       "      <td>...</td>\n",
       "      <td>NaN</td>\n",
       "      <td>NaN</td>\n",
       "      <td>NaN</td>\n",
       "      <td>NaN</td>\n",
       "      <td>NaN</td>\n",
       "      <td>NaN</td>\n",
       "      <td>NaN</td>\n",
       "      <td>NaN</td>\n",
       "      <td>NaN</td>\n",
       "      <td>NaN</td>\n",
       "    </tr>\n",
       "    <tr>\n",
       "      <th>4</th>\n",
       "      <td>TeamViewer</td>\n",
       "      <td>145</td>\n",
       "      <td>58</td>\n",
       "      <td>23</td>\n",
       "      <td>50</td>\n",
       "      <td>191</td>\n",
       "      <td>255</td>\n",
       "      <td>24</td>\n",
       "      <td>69</td>\n",
       "      <td>209</td>\n",
       "      <td>...</td>\n",
       "      <td>12.0</td>\n",
       "      <td>120.0</td>\n",
       "      <td>NaN</td>\n",
       "      <td>NaN</td>\n",
       "      <td>NaN</td>\n",
       "      <td>NaN</td>\n",
       "      <td>NaN</td>\n",
       "      <td>NaN</td>\n",
       "      <td>NaN</td>\n",
       "      <td>NaN</td>\n",
       "    </tr>\n",
       "  </tbody>\n",
       "</table>\n",
       "<p>5 rows × 1481 columns</p>\n",
       "</div>"
      ],
      "text/plain": [
       "        label  byte1  byte2  byte3  byte4  byte5  byte6  byte7  byte8  byte9  \\\n",
       "0  TeamViewer    136     10     23     50     81    180     33    162    145   \n",
       "1  TeamViewer     23     50    136     10    145    225     58     15     81   \n",
       "2  TeamViewer     23     50    136     10    145    225     58     15     81   \n",
       "3  TeamViewer    145     58     23     50    191    255     24     32    209   \n",
       "4  TeamViewer    145     58     23     50    191    255     24     69    209   \n",
       "\n",
       "   ...  byte1471  byte1472  byte1473  byte1474  byte1475  byte1476  byte1477  \\\n",
       "0  ...       NaN       NaN       NaN       NaN       NaN       NaN       NaN   \n",
       "1  ...       NaN       NaN       NaN       NaN       NaN       NaN       NaN   \n",
       "2  ...       NaN       NaN       NaN       NaN       NaN       NaN       NaN   \n",
       "3  ...       NaN       NaN       NaN       NaN       NaN       NaN       NaN   \n",
       "4  ...      12.0     120.0       NaN       NaN       NaN       NaN       NaN   \n",
       "\n",
       "   byte1478  byte1479  byte1480  \n",
       "0       NaN       NaN       NaN  \n",
       "1       NaN       NaN       NaN  \n",
       "2       NaN       NaN       NaN  \n",
       "3       NaN       NaN       NaN  \n",
       "4       NaN       NaN       NaN  \n",
       "\n",
       "[5 rows x 1481 columns]"
      ]
     },
     "execution_count": 3,
     "metadata": {},
     "output_type": "execute_result"
    }
   ],
   "source": [
    "print(\"Number of packets: {}\".format(len(df)))\n",
    "df.head()"
   ]
  },
  {
   "cell_type": "markdown",
   "metadata": {
    "ExecuteTime": {
     "end_time": "2020-08-11T13:10:28.564794Z",
     "start_time": "2020-08-11T13:10:28.543000Z"
    }
   },
   "source": [
    "#### Number of packets per label:"
   ]
  },
  {
   "cell_type": "code",
   "execution_count": 4,
   "metadata": {
    "ExecuteTime": {
     "end_time": "2020-08-13T07:41:10.060255Z",
     "start_time": "2020-08-13T07:41:08.749060Z"
    }
   },
   "outputs": [
    {
     "data": {
      "image/png": "[encoded data removed]",
      "text/plain": [
       "<Figure size 576x576 with 1 Axes>"
      ]
     },
     "metadata": {
      "needs_background": "light"
     },
     "output_type": "display_data"
    }
   ],
   "source": [
    "plt.figure(figsize=(8,8))\n",
    "df_label_counts = df[\"label\"].value_counts().sort_values(ascending=True)\n",
    "ax = df_label_counts.plot.barh()\n",
    "for i, v in enumerate(df_label_counts):\n",
    "    ax.text(v+1000, i-0.3, str(v), fontweight='bold')"
   ]
  },
  {
   "cell_type": "markdown",
   "metadata": {},
   "source": [
    "#### Histogram of packet lengths:"
   ]
  },
  {
   "cell_type": "code",
   "execution_count": 5,
   "metadata": {
    "ExecuteTime": {
     "end_time": "2020-08-13T07:41:19.133820Z",
     "start_time": "2020-08-13T07:41:12.241462Z"
    }
   },
   "outputs": [
    {
     "data": {
      "text/plain": [
       "<AxesSubplot:ylabel='Frequency'>"
      ]
     },
     "execution_count": 5,
     "metadata": {},
     "output_type": "execute_result"
    },
    {
     "data": {
      "image/png": "[encoded data removed]",
      "text/plain": [
       "<Figure size 576x576 with 1 Axes>"
      ]
     },
     "metadata": {
      "needs_background": "light"
     },
     "output_type": "display_data"
    }
   ],
   "source": [
    "packet_lengths =  df.isna().sum(axis=1)\n",
    "plt.figure(figsize=(8,8))\n",
    "packet_lengths.plot.hist(bins = list(range(0, 1600, 20)))"
   ]
  },
  {
   "cell_type": "markdown",
   "metadata": {
    "ExecuteTime": {
     "end_time": "2020-08-13T07:44:05.734487Z",
     "start_time": "2020-08-13T07:44:05.729018Z"
    }
   },
   "source": [
    "#### Median packet lengths by class"
   ]
  },
  {
   "cell_type": "code",
   "execution_count": 12,
   "metadata": {
    "ExecuteTime": {
     "end_time": "2020-08-13T07:43:52.382680Z",
     "start_time": "2020-08-13T07:43:48.609759Z"
    }
   },
   "outputs": [
    {
     "data": {
      "text/plain": [
       "Text(0.5, 0, 'Median Packet Length')"
      ]
     },
     "execution_count": 12,
     "metadata": {},
     "output_type": "execute_result"
    },
    {
     "data": {
      "image/png": "[encoded data removed]",
      "text/plain": [
       "<Figure size 576x576 with 1 Axes>"
      ]
     },
     "metadata": {
      "needs_background": "light"
     },
     "output_type": "display_data"
    }
   ],
   "source": [
    "df[\"packet_length\"] = 1480-df.isna().sum(axis=1)\n",
    "df.groupby('label')[\"packet_length\"].median().sort_values().plot.barh(figsize=(8,8))\n",
    "plt.xlabel(\"Median Packet Length\")"
   ]
  },
  {
   "cell_type": "code",
   "execution_count": 15,
   "metadata": {
    "ExecuteTime": {
     "end_time": "2020-08-13T07:45:28.418361Z",
     "start_time": "2020-08-13T07:45:25.887541Z"
    }
   },
   "outputs": [
    {
     "data": {
      "text/plain": [
       "<matplotlib.legend.Legend at 0x7ffdacf76ca0>"
      ]
     },
     "execution_count": 15,
     "metadata": {},
     "output_type": "execute_result"
    },
    {
     "data": {
      "image/png": "[encoded data removed]",
      "text/plain": [
       "<Figure size 432x288 with 1 Axes>"
      ]
     },
     "metadata": {
      "needs_background": "light"
     },
     "output_type": "display_data"
    }
   ],
   "source": [
    "sns.distplot(df[df[\"label\"] == \"YouTube\"][\"packet_length\"], hist=False, label=\"YouTube\")\n",
    "sns.distplot(df[df[\"label\"] == \"Facebook\"][\"packet_length\"], hist=False, label=\"Facebook\")\n",
    "sns.distplot(df[df[\"label\"] == \"WhatsApp\"][\"packet_length\"], hist=False, label=\"WhatsApp\")\n",
    "plt.legend()"
   ]
  },
  {
   "cell_type": "markdown",
   "metadata": {},
   "source": [
    "## Create Train, Val and Test datasets"
   ]
  },
  {
   "cell_type": "code",
   "execution_count": 25,
   "metadata": {
    "ExecuteTime": {
     "end_time": "2020-08-13T07:47:11.269398Z",
     "start_time": "2020-08-13T07:47:06.950363Z"
    }
   },
   "outputs": [
    {
     "data": {
      "text/plain": [
       "YouTube     10000\n",
       "Facebook    10000\n",
       "WhatsApp    10000\n",
       "Name: label, dtype: int64"
      ]
     },
     "execution_count": 25,
     "metadata": {},
     "output_type": "execute_result"
    }
   ],
   "source": [
    "classes = [\"YouTube\", \"Facebook\", \"WhatsApp\"]\n",
    "num_packets = 10000\n",
    "\n",
    "df_new = pd.DataFrame()\n",
    "\n",
    "for label in classes:\n",
    "    df_label = df[df[\"label\"] == label] # e.g. if label == Facebook, extract the Facebook rows\n",
    "    assert len(df_label) >= num_packets # e.g. make sure at least 10000 Facebook packets\n",
    "    df_sampled = df_label.sample(n=num_packets, random_state=42)\n",
    "    df_new = df_new.append(df_sampled)\n",
    "    \n",
    "df_new[\"label\"].value_counts()"
   ]
  },
  {
   "cell_type": "code",
   "execution_count": 26,
   "metadata": {
    "ExecuteTime": {
     "end_time": "2020-08-13T07:47:11.343096Z",
     "start_time": "2020-08-13T07:47:11.287836Z"
    }
   },
   "outputs": [
    {
     "data": {
      "text/html": [
       "<div>\n",
       "<style scoped>\n",
       "    .dataframe tbody tr th:only-of-type {\n",
       "        vertical-align: middle;\n",
       "    }\n",
       "\n",
       "    .dataframe tbody tr th {\n",
       "        vertical-align: top;\n",
       "    }\n",
       "\n",
       "    .dataframe thead th {\n",
       "        text-align: right;\n",
       "    }\n",
       "</style>\n",
       "<table border=\"1\" class=\"dataframe\">\n",
       "  <thead>\n",
       "    <tr style=\"text-align: right;\">\n",
       "      <th></th>\n",
       "      <th>label</th>\n",
       "      <th>byte1</th>\n",
       "      <th>byte2</th>\n",
       "      <th>byte3</th>\n",
       "      <th>byte4</th>\n",
       "      <th>byte5</th>\n",
       "      <th>byte6</th>\n",
       "      <th>byte7</th>\n",
       "      <th>byte8</th>\n",
       "      <th>byte9</th>\n",
       "      <th>...</th>\n",
       "      <th>byte1472</th>\n",
       "      <th>byte1473</th>\n",
       "      <th>byte1474</th>\n",
       "      <th>byte1475</th>\n",
       "      <th>byte1476</th>\n",
       "      <th>byte1477</th>\n",
       "      <th>byte1478</th>\n",
       "      <th>byte1479</th>\n",
       "      <th>byte1480</th>\n",
       "      <th>packet_length</th>\n",
       "    </tr>\n",
       "  </thead>\n",
       "  <tbody>\n",
       "    <tr>\n",
       "      <th>228620</th>\n",
       "      <td>YouTube</td>\n",
       "      <td>1</td>\n",
       "      <td>187</td>\n",
       "      <td>240</td>\n",
       "      <td>76</td>\n",
       "      <td>46</td>\n",
       "      <td>26</td>\n",
       "      <td>221</td>\n",
       "      <td>62</td>\n",
       "      <td>195</td>\n",
       "      <td>...</td>\n",
       "      <td>222.0</td>\n",
       "      <td>NaN</td>\n",
       "      <td>NaN</td>\n",
       "      <td>NaN</td>\n",
       "      <td>NaN</td>\n",
       "      <td>NaN</td>\n",
       "      <td>NaN</td>\n",
       "      <td>NaN</td>\n",
       "      <td>NaN</td>\n",
       "      <td>1472</td>\n",
       "    </tr>\n",
       "    <tr>\n",
       "      <th>135723</th>\n",
       "      <td>YouTube</td>\n",
       "      <td>1</td>\n",
       "      <td>187</td>\n",
       "      <td>213</td>\n",
       "      <td>61</td>\n",
       "      <td>45</td>\n",
       "      <td>90</td>\n",
       "      <td>226</td>\n",
       "      <td>63</td>\n",
       "      <td>110</td>\n",
       "      <td>...</td>\n",
       "      <td>70.0</td>\n",
       "      <td>NaN</td>\n",
       "      <td>NaN</td>\n",
       "      <td>NaN</td>\n",
       "      <td>NaN</td>\n",
       "      <td>NaN</td>\n",
       "      <td>NaN</td>\n",
       "      <td>NaN</td>\n",
       "      <td>NaN</td>\n",
       "      <td>1472</td>\n",
       "    </tr>\n",
       "    <tr>\n",
       "      <th>207637</th>\n",
       "      <td>YouTube</td>\n",
       "      <td>1</td>\n",
       "      <td>187</td>\n",
       "      <td>239</td>\n",
       "      <td>129</td>\n",
       "      <td>18</td>\n",
       "      <td>212</td>\n",
       "      <td>172</td>\n",
       "      <td>76</td>\n",
       "      <td>226</td>\n",
       "      <td>...</td>\n",
       "      <td>214.0</td>\n",
       "      <td>NaN</td>\n",
       "      <td>NaN</td>\n",
       "      <td>NaN</td>\n",
       "      <td>NaN</td>\n",
       "      <td>NaN</td>\n",
       "      <td>NaN</td>\n",
       "      <td>NaN</td>\n",
       "      <td>NaN</td>\n",
       "      <td>1472</td>\n",
       "    </tr>\n",
       "    <tr>\n",
       "      <th>198804</th>\n",
       "      <td>YouTube</td>\n",
       "      <td>1</td>\n",
       "      <td>187</td>\n",
       "      <td>218</td>\n",
       "      <td>214</td>\n",
       "      <td>118</td>\n",
       "      <td>39</td>\n",
       "      <td>46</td>\n",
       "      <td>80</td>\n",
       "      <td>220</td>\n",
       "      <td>...</td>\n",
       "      <td>NaN</td>\n",
       "      <td>NaN</td>\n",
       "      <td>NaN</td>\n",
       "      <td>NaN</td>\n",
       "      <td>NaN</td>\n",
       "      <td>NaN</td>\n",
       "      <td>NaN</td>\n",
       "      <td>NaN</td>\n",
       "      <td>NaN</td>\n",
       "      <td>1428</td>\n",
       "    </tr>\n",
       "    <tr>\n",
       "      <th>213885</th>\n",
       "      <td>YouTube</td>\n",
       "      <td>1</td>\n",
       "      <td>187</td>\n",
       "      <td>239</td>\n",
       "      <td>151</td>\n",
       "      <td>135</td>\n",
       "      <td>112</td>\n",
       "      <td>7</td>\n",
       "      <td>169</td>\n",
       "      <td>13</td>\n",
       "      <td>...</td>\n",
       "      <td>162.0</td>\n",
       "      <td>NaN</td>\n",
       "      <td>NaN</td>\n",
       "      <td>NaN</td>\n",
       "      <td>NaN</td>\n",
       "      <td>NaN</td>\n",
       "      <td>NaN</td>\n",
       "      <td>NaN</td>\n",
       "      <td>NaN</td>\n",
       "      <td>1472</td>\n",
       "    </tr>\n",
       "  </tbody>\n",
       "</table>\n",
       "<p>5 rows × 1482 columns</p>\n",
       "</div>"
      ],
      "text/plain": [
       "          label  byte1  byte2  byte3  byte4  byte5  byte6  byte7  byte8  \\\n",
       "228620  YouTube      1    187    240     76     46     26    221     62   \n",
       "135723  YouTube      1    187    213     61     45     90    226     63   \n",
       "207637  YouTube      1    187    239    129     18    212    172     76   \n",
       "198804  YouTube      1    187    218    214    118     39     46     80   \n",
       "213885  YouTube      1    187    239    151    135    112      7    169   \n",
       "\n",
       "        byte9  ...  byte1472  byte1473  byte1474  byte1475  byte1476  \\\n",
       "228620    195  ...     222.0       NaN       NaN       NaN       NaN   \n",
       "135723    110  ...      70.0       NaN       NaN       NaN       NaN   \n",
       "207637    226  ...     214.0       NaN       NaN       NaN       NaN   \n",
       "198804    220  ...       NaN       NaN       NaN       NaN       NaN   \n",
       "213885     13  ...     162.0       NaN       NaN       NaN       NaN   \n",
       "\n",
       "        byte1477  byte1478  byte1479  byte1480  packet_length  \n",
       "228620       NaN       NaN       NaN       NaN           1472  \n",
       "135723       NaN       NaN       NaN       NaN           1472  \n",
       "207637       NaN       NaN       NaN       NaN           1472  \n",
       "198804       NaN       NaN       NaN       NaN           1428  \n",
       "213885       NaN       NaN       NaN       NaN           1472  \n",
       "\n",
       "[5 rows x 1482 columns]"
      ]
     },
     "execution_count": 26,
     "metadata": {},
     "output_type": "execute_result"
    }
   ],
   "source": [
    "df_new.head()"
   ]
  },
  {
   "cell_type": "markdown",
   "metadata": {},
   "source": [
    "Fill NaN's with 0 i.e. zero pad"
   ]
  },
  {
   "cell_type": "code",
   "execution_count": 27,
   "metadata": {
    "ExecuteTime": {
     "end_time": "2020-08-13T07:47:11.601998Z",
     "start_time": "2020-08-13T07:47:11.362903Z"
    }
   },
   "outputs": [],
   "source": [
    "df_new.fillna(0, inplace=True)"
   ]
  },
  {
   "cell_type": "code",
   "execution_count": 28,
   "metadata": {
    "ExecuteTime": {
     "end_time": "2020-08-13T07:47:11.636339Z",
     "start_time": "2020-08-13T07:47:11.605932Z"
    }
   },
   "outputs": [
    {
     "data": {
      "text/html": [
       "<div>\n",
       "<style scoped>\n",
       "    .dataframe tbody tr th:only-of-type {\n",
       "        vertical-align: middle;\n",
       "    }\n",
       "\n",
       "    .dataframe tbody tr th {\n",
       "        vertical-align: top;\n",
       "    }\n",
       "\n",
       "    .dataframe thead th {\n",
       "        text-align: right;\n",
       "    }\n",
       "</style>\n",
       "<table border=\"1\" class=\"dataframe\">\n",
       "  <thead>\n",
       "    <tr style=\"text-align: right;\">\n",
       "      <th></th>\n",
       "      <th>label</th>\n",
       "      <th>byte1</th>\n",
       "      <th>byte2</th>\n",
       "      <th>byte3</th>\n",
       "      <th>byte4</th>\n",
       "      <th>byte5</th>\n",
       "      <th>byte6</th>\n",
       "      <th>byte7</th>\n",
       "      <th>byte8</th>\n",
       "      <th>byte9</th>\n",
       "      <th>...</th>\n",
       "      <th>byte1472</th>\n",
       "      <th>byte1473</th>\n",
       "      <th>byte1474</th>\n",
       "      <th>byte1475</th>\n",
       "      <th>byte1476</th>\n",
       "      <th>byte1477</th>\n",
       "      <th>byte1478</th>\n",
       "      <th>byte1479</th>\n",
       "      <th>byte1480</th>\n",
       "      <th>packet_length</th>\n",
       "    </tr>\n",
       "  </thead>\n",
       "  <tbody>\n",
       "    <tr>\n",
       "      <th>228620</th>\n",
       "      <td>YouTube</td>\n",
       "      <td>1</td>\n",
       "      <td>187</td>\n",
       "      <td>240</td>\n",
       "      <td>76</td>\n",
       "      <td>46</td>\n",
       "      <td>26</td>\n",
       "      <td>221</td>\n",
       "      <td>62</td>\n",
       "      <td>195</td>\n",
       "      <td>...</td>\n",
       "      <td>222.0</td>\n",
       "      <td>0.0</td>\n",
       "      <td>0.0</td>\n",
       "      <td>0.0</td>\n",
       "      <td>0.0</td>\n",
       "      <td>0.0</td>\n",
       "      <td>0.0</td>\n",
       "      <td>0.0</td>\n",
       "      <td>0.0</td>\n",
       "      <td>1472</td>\n",
       "    </tr>\n",
       "    <tr>\n",
       "      <th>135723</th>\n",
       "      <td>YouTube</td>\n",
       "      <td>1</td>\n",
       "      <td>187</td>\n",
       "      <td>213</td>\n",
       "      <td>61</td>\n",
       "      <td>45</td>\n",
       "      <td>90</td>\n",
       "      <td>226</td>\n",
       "      <td>63</td>\n",
       "      <td>110</td>\n",
       "      <td>...</td>\n",
       "      <td>70.0</td>\n",
       "      <td>0.0</td>\n",
       "      <td>0.0</td>\n",
       "      <td>0.0</td>\n",
       "      <td>0.0</td>\n",
       "      <td>0.0</td>\n",
       "      <td>0.0</td>\n",
       "      <td>0.0</td>\n",
       "      <td>0.0</td>\n",
       "      <td>1472</td>\n",
       "    </tr>\n",
       "    <tr>\n",
       "      <th>207637</th>\n",
       "      <td>YouTube</td>\n",
       "      <td>1</td>\n",
       "      <td>187</td>\n",
       "      <td>239</td>\n",
       "      <td>129</td>\n",
       "      <td>18</td>\n",
       "      <td>212</td>\n",
       "      <td>172</td>\n",
       "      <td>76</td>\n",
       "      <td>226</td>\n",
       "      <td>...</td>\n",
       "      <td>214.0</td>\n",
       "      <td>0.0</td>\n",
       "      <td>0.0</td>\n",
       "      <td>0.0</td>\n",
       "      <td>0.0</td>\n",
       "      <td>0.0</td>\n",
       "      <td>0.0</td>\n",
       "      <td>0.0</td>\n",
       "      <td>0.0</td>\n",
       "      <td>1472</td>\n",
       "    </tr>\n",
       "    <tr>\n",
       "      <th>198804</th>\n",
       "      <td>YouTube</td>\n",
       "      <td>1</td>\n",
       "      <td>187</td>\n",
       "      <td>218</td>\n",
       "      <td>214</td>\n",
       "      <td>118</td>\n",
       "      <td>39</td>\n",
       "      <td>46</td>\n",
       "      <td>80</td>\n",
       "      <td>220</td>\n",
       "      <td>...</td>\n",
       "      <td>0.0</td>\n",
       "      <td>0.0</td>\n",
       "      <td>0.0</td>\n",
       "      <td>0.0</td>\n",
       "      <td>0.0</td>\n",
       "      <td>0.0</td>\n",
       "      <td>0.0</td>\n",
       "      <td>0.0</td>\n",
       "      <td>0.0</td>\n",
       "      <td>1428</td>\n",
       "    </tr>\n",
       "    <tr>\n",
       "      <th>213885</th>\n",
       "      <td>YouTube</td>\n",
       "      <td>1</td>\n",
       "      <td>187</td>\n",
       "      <td>239</td>\n",
       "      <td>151</td>\n",
       "      <td>135</td>\n",
       "      <td>112</td>\n",
       "      <td>7</td>\n",
       "      <td>169</td>\n",
       "      <td>13</td>\n",
       "      <td>...</td>\n",
       "      <td>162.0</td>\n",
       "      <td>0.0</td>\n",
       "      <td>0.0</td>\n",
       "      <td>0.0</td>\n",
       "      <td>0.0</td>\n",
       "      <td>0.0</td>\n",
       "      <td>0.0</td>\n",
       "      <td>0.0</td>\n",
       "      <td>0.0</td>\n",
       "      <td>1472</td>\n",
       "    </tr>\n",
       "  </tbody>\n",
       "</table>\n",
       "<p>5 rows × 1482 columns</p>\n",
       "</div>"
      ],
      "text/plain": [
       "          label  byte1  byte2  byte3  byte4  byte5  byte6  byte7  byte8  \\\n",
       "228620  YouTube      1    187    240     76     46     26    221     62   \n",
       "135723  YouTube      1    187    213     61     45     90    226     63   \n",
       "207637  YouTube      1    187    239    129     18    212    172     76   \n",
       "198804  YouTube      1    187    218    214    118     39     46     80   \n",
       "213885  YouTube      1    187    239    151    135    112      7    169   \n",
       "\n",
       "        byte9  ...  byte1472  byte1473  byte1474  byte1475  byte1476  \\\n",
       "228620    195  ...     222.0       0.0       0.0       0.0       0.0   \n",
       "135723    110  ...      70.0       0.0       0.0       0.0       0.0   \n",
       "207637    226  ...     214.0       0.0       0.0       0.0       0.0   \n",
       "198804    220  ...       0.0       0.0       0.0       0.0       0.0   \n",
       "213885     13  ...     162.0       0.0       0.0       0.0       0.0   \n",
       "\n",
       "        byte1477  byte1478  byte1479  byte1480  packet_length  \n",
       "228620       0.0       0.0       0.0       0.0           1472  \n",
       "135723       0.0       0.0       0.0       0.0           1472  \n",
       "207637       0.0       0.0       0.0       0.0           1472  \n",
       "198804       0.0       0.0       0.0       0.0           1428  \n",
       "213885       0.0       0.0       0.0       0.0           1472  \n",
       "\n",
       "[5 rows x 1482 columns]"
      ]
     },
     "execution_count": 28,
     "metadata": {},
     "output_type": "execute_result"
    }
   ],
   "source": [
    "df_new.head()"
   ]
  },
  {
   "cell_type": "markdown",
   "metadata": {},
   "source": [
    "Perform the train-test split"
   ]
  },
  {
   "cell_type": "code",
   "execution_count": 29,
   "metadata": {
    "ExecuteTime": {
     "end_time": "2020-08-13T07:47:12.378882Z",
     "start_time": "2020-08-13T07:47:11.644578Z"
    }
   },
   "outputs": [
    {
     "data": {
      "text/plain": [
       "(19200, 4800, 6000)"
      ]
     },
     "execution_count": 29,
     "metadata": {},
     "output_type": "execute_result"
    }
   ],
   "source": [
    "df_train, df_test = train_test_split(df_new, test_size=0.2, random_state=42)\n",
    "df_train, df_val = train_test_split(df_train, test_size=0.2, random_state=42)\n",
    "len(df_train), len(df_val), len(df_test)"
   ]
  },
  {
   "cell_type": "code",
   "execution_count": 30,
   "metadata": {
    "ExecuteTime": {
     "end_time": "2020-08-13T07:47:12.393817Z",
     "start_time": "2020-08-13T07:47:12.384765Z"
    }
   },
   "outputs": [],
   "source": [
    "file_suffix = \"{0}_{1}\".format(len(classes),num_packets) # e.g. 3_10000"
   ]
  },
  {
   "cell_type": "markdown",
   "metadata": {
    "ExecuteTime": {
     "end_time": "2020-08-11T18:32:25.556296Z",
     "start_time": "2020-08-11T18:32:25.539211Z"
    }
   },
   "source": [
    "Writing to train.csv and test.csv"
   ]
  },
  {
   "cell_type": "code",
   "execution_count": 31,
   "metadata": {
    "ExecuteTime": {
     "end_time": "2020-08-13T07:47:49.490274Z",
     "start_time": "2020-08-13T07:47:12.402182Z"
    }
   },
   "outputs": [],
   "source": [
    "df_train.to_csv(\"../../data/{0}/train_{0}.csv\".format(file_suffix), index=False)"
   ]
  },
  {
   "cell_type": "code",
   "execution_count": 32,
   "metadata": {
    "ExecuteTime": {
     "end_time": "2020-08-13T07:47:57.792715Z",
     "start_time": "2020-08-13T07:47:49.496218Z"
    }
   },
   "outputs": [],
   "source": [
    "df_val.to_csv( \"../../data/{0}/val_{0}.csv\".format(file_suffix), index=False)"
   ]
  },
  {
   "cell_type": "code",
   "execution_count": 33,
   "metadata": {
    "ExecuteTime": {
     "end_time": "2020-08-13T07:48:11.572784Z",
     "start_time": "2020-08-13T07:47:57.795102Z"
    }
   },
   "outputs": [],
   "source": [
    "df_test.to_csv(\"../../data/{0}/test_{0}.csv\".format(file_suffix), index=False)"
   ]
  }
 ],
 "metadata": {
  "kernelspec": {
   "display_name": "Python 3",
   "language": "python",
   "name": "python3"
  },
  "language_info": {
   "codemirror_mode": {
    "name": "ipython",
    "version": 3
   },
   "file_extension": ".py",
   "mimetype": "text/x-python",
   "name": "python",
   "nbconvert_exporter": "python",
   "pygments_lexer": "ipython3",
   "version": "3.8.5"
  }
 },
 "nbformat": 4,
 "nbformat_minor": 4
}
