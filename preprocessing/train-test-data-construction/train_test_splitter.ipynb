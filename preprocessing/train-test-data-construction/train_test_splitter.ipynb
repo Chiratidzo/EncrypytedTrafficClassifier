{
 "cells": [
  {
   "cell_type": "markdown",
   "metadata": {
    "ExecuteTime": {
     "end_time": "2020-08-11T13:08:27.764566Z",
     "start_time": "2020-08-11T13:08:27.738410Z"
    }
   },
   "source": [
    "## EDA"
   ]
  },
  {
   "cell_type": "code",
   "execution_count": 6,
   "metadata": {
    "ExecuteTime": {
     "end_time": "2020-08-11T18:23:52.584230Z",
     "start_time": "2020-08-11T18:23:49.153926Z"
    }
   },
   "outputs": [],
   "source": [
    "import pandas as pd\n",
    "import matplotlib.pyplot as plt\n",
    "from sklearn.model_selection import train_test_split"
   ]
  },
  {
   "cell_type": "code",
   "execution_count": null,
   "metadata": {
    "ExecuteTime": {
     "end_time": "2020-08-11T18:28:09.525970Z",
     "start_time": "2020-08-11T18:23:52.588397Z"
    }
   },
   "outputs": [],
   "source": [
    "df = pd.read_csv('../data/data.csv') # read in the csv witth byte_array - label pairs\n",
    "df.drop(df.columns[-20:], axis=1, inplace=True)"
   ]
  },
  {
   "cell_type": "code",
   "execution_count": 3,
   "metadata": {
    "ExecuteTime": {
     "end_time": "2020-08-11T18:28:09.906788Z",
     "start_time": "2020-08-11T18:28:09.584835Z"
    }
   },
   "outputs": [
    {
     "name": "stdout",
     "output_type": "stream",
     "text": [
      "Number of packets: 89695\n"
     ]
    },
    {
     "data": {
      "text/html": [
       "<div>\n",
       "<style scoped>\n",
       "    .dataframe tbody tr th:only-of-type {\n",
       "        vertical-align: middle;\n",
       "    }\n",
       "\n",
       "    .dataframe tbody tr th {\n",
       "        vertical-align: top;\n",
       "    }\n",
       "\n",
       "    .dataframe thead th {\n",
       "        text-align: right;\n",
       "    }\n",
       "</style>\n",
       "<table border=\"1\" class=\"dataframe\">\n",
       "  <thead>\n",
       "    <tr style=\"text-align: right;\">\n",
       "      <th></th>\n",
       "      <th>label</th>\n",
       "      <th>byte1</th>\n",
       "      <th>byte2</th>\n",
       "      <th>byte3</th>\n",
       "      <th>byte4</th>\n",
       "      <th>byte5</th>\n",
       "      <th>byte6</th>\n",
       "      <th>byte7</th>\n",
       "      <th>byte8</th>\n",
       "      <th>byte9</th>\n",
       "      <th>...</th>\n",
       "      <th>byte1451</th>\n",
       "      <th>byte1452</th>\n",
       "      <th>byte1453</th>\n",
       "      <th>byte1454</th>\n",
       "      <th>byte1455</th>\n",
       "      <th>byte1456</th>\n",
       "      <th>byte1457</th>\n",
       "      <th>byte1458</th>\n",
       "      <th>byte1459</th>\n",
       "      <th>byte1460</th>\n",
       "    </tr>\n",
       "  </thead>\n",
       "  <tbody>\n",
       "    <tr>\n",
       "      <th>0</th>\n",
       "      <td>TeamViewer</td>\n",
       "      <td>136</td>\n",
       "      <td>10</td>\n",
       "      <td>23</td>\n",
       "      <td>50</td>\n",
       "      <td>81</td>\n",
       "      <td>180</td>\n",
       "      <td>33</td>\n",
       "      <td>162</td>\n",
       "      <td>145</td>\n",
       "      <td>...</td>\n",
       "      <td>NaN</td>\n",
       "      <td>NaN</td>\n",
       "      <td>NaN</td>\n",
       "      <td>NaN</td>\n",
       "      <td>NaN</td>\n",
       "      <td>NaN</td>\n",
       "      <td>NaN</td>\n",
       "      <td>NaN</td>\n",
       "      <td>NaN</td>\n",
       "      <td>NaN</td>\n",
       "    </tr>\n",
       "    <tr>\n",
       "      <th>1</th>\n",
       "      <td>TeamViewer</td>\n",
       "      <td>23</td>\n",
       "      <td>50</td>\n",
       "      <td>136</td>\n",
       "      <td>10</td>\n",
       "      <td>145</td>\n",
       "      <td>225</td>\n",
       "      <td>58</td>\n",
       "      <td>15</td>\n",
       "      <td>81</td>\n",
       "      <td>...</td>\n",
       "      <td>NaN</td>\n",
       "      <td>NaN</td>\n",
       "      <td>NaN</td>\n",
       "      <td>NaN</td>\n",
       "      <td>NaN</td>\n",
       "      <td>NaN</td>\n",
       "      <td>NaN</td>\n",
       "      <td>NaN</td>\n",
       "      <td>NaN</td>\n",
       "      <td>NaN</td>\n",
       "    </tr>\n",
       "    <tr>\n",
       "      <th>2</th>\n",
       "      <td>TeamViewer</td>\n",
       "      <td>23</td>\n",
       "      <td>50</td>\n",
       "      <td>136</td>\n",
       "      <td>10</td>\n",
       "      <td>145</td>\n",
       "      <td>225</td>\n",
       "      <td>58</td>\n",
       "      <td>15</td>\n",
       "      <td>81</td>\n",
       "      <td>...</td>\n",
       "      <td>NaN</td>\n",
       "      <td>NaN</td>\n",
       "      <td>NaN</td>\n",
       "      <td>NaN</td>\n",
       "      <td>NaN</td>\n",
       "      <td>NaN</td>\n",
       "      <td>NaN</td>\n",
       "      <td>NaN</td>\n",
       "      <td>NaN</td>\n",
       "      <td>NaN</td>\n",
       "    </tr>\n",
       "    <tr>\n",
       "      <th>3</th>\n",
       "      <td>TeamViewer</td>\n",
       "      <td>145</td>\n",
       "      <td>58</td>\n",
       "      <td>23</td>\n",
       "      <td>50</td>\n",
       "      <td>191</td>\n",
       "      <td>255</td>\n",
       "      <td>24</td>\n",
       "      <td>32</td>\n",
       "      <td>209</td>\n",
       "      <td>...</td>\n",
       "      <td>NaN</td>\n",
       "      <td>NaN</td>\n",
       "      <td>NaN</td>\n",
       "      <td>NaN</td>\n",
       "      <td>NaN</td>\n",
       "      <td>NaN</td>\n",
       "      <td>NaN</td>\n",
       "      <td>NaN</td>\n",
       "      <td>NaN</td>\n",
       "      <td>NaN</td>\n",
       "    </tr>\n",
       "    <tr>\n",
       "      <th>4</th>\n",
       "      <td>TeamViewer</td>\n",
       "      <td>145</td>\n",
       "      <td>58</td>\n",
       "      <td>23</td>\n",
       "      <td>50</td>\n",
       "      <td>191</td>\n",
       "      <td>255</td>\n",
       "      <td>24</td>\n",
       "      <td>69</td>\n",
       "      <td>209</td>\n",
       "      <td>...</td>\n",
       "      <td>1.0</td>\n",
       "      <td>0.0</td>\n",
       "      <td>0.0</td>\n",
       "      <td>9.0</td>\n",
       "      <td>3.0</td>\n",
       "      <td>128.0</td>\n",
       "      <td>136.0</td>\n",
       "      <td>0.0</td>\n",
       "      <td>0.0</td>\n",
       "      <td>0.0</td>\n",
       "    </tr>\n",
       "  </tbody>\n",
       "</table>\n",
       "<p>5 rows × 1461 columns</p>\n",
       "</div>"
      ],
      "text/plain": [
       "        label  byte1  byte2  byte3  byte4  byte5  byte6  byte7  byte8  byte9  \\\n",
       "0  TeamViewer    136     10     23     50     81    180     33    162    145   \n",
       "1  TeamViewer     23     50    136     10    145    225     58     15     81   \n",
       "2  TeamViewer     23     50    136     10    145    225     58     15     81   \n",
       "3  TeamViewer    145     58     23     50    191    255     24     32    209   \n",
       "4  TeamViewer    145     58     23     50    191    255     24     69    209   \n",
       "\n",
       "   ...  byte1451  byte1452  byte1453  byte1454  byte1455  byte1456  byte1457  \\\n",
       "0  ...       NaN       NaN       NaN       NaN       NaN       NaN       NaN   \n",
       "1  ...       NaN       NaN       NaN       NaN       NaN       NaN       NaN   \n",
       "2  ...       NaN       NaN       NaN       NaN       NaN       NaN       NaN   \n",
       "3  ...       NaN       NaN       NaN       NaN       NaN       NaN       NaN   \n",
       "4  ...       1.0       0.0       0.0       9.0       3.0     128.0     136.0   \n",
       "\n",
       "   byte1458  byte1459  byte1460  \n",
       "0       NaN       NaN       NaN  \n",
       "1       NaN       NaN       NaN  \n",
       "2       NaN       NaN       NaN  \n",
       "3       NaN       NaN       NaN  \n",
       "4       0.0       0.0       0.0  \n",
       "\n",
       "[5 rows x 1461 columns]"
      ]
     },
     "execution_count": 3,
     "metadata": {},
     "output_type": "execute_result"
    }
   ],
   "source": [
    "print(\"Number of packets: {}\".format(len(df)))\n",
    "df.head()"
   ]
  },
  {
   "cell_type": "markdown",
   "metadata": {
    "ExecuteTime": {
     "end_time": "2020-08-11T13:10:28.564794Z",
     "start_time": "2020-08-11T13:10:28.543000Z"
    }
   },
   "source": [
    "Number of packets per label:"
   ]
  },
  {
   "cell_type": "code",
   "execution_count": 4,
   "metadata": {
    "ExecuteTime": {
     "end_time": "2020-08-11T18:28:11.158914Z",
     "start_time": "2020-08-11T18:28:09.917372Z"
    }
   },
   "outputs": [
    {
     "data": {
      "image/png": "[encoded data removed]",
      "text/plain": [
       "<Figure size 576x576 with 1 Axes>"
      ]
     },
     "metadata": {
      "needs_background": "light"
     },
     "output_type": "display_data"
    }
   ],
   "source": [
    "plt.figure(figsize=(8,8))\n",
    "df_label_counts = df[\"label\"].value_counts().sort_values(ascending=True)\n",
    "ax = df_label_counts.plot.barh()\n",
    "for i, v in enumerate(df_label_counts):\n",
    "    ax.text(v+1000, i-0.3, str(v), fontweight='bold')"
   ]
  },
  {
   "cell_type": "markdown",
   "metadata": {},
   "source": [
    "Histogram of packet lengths:"
   ]
  },
  {
   "cell_type": "code",
   "execution_count": 5,
   "metadata": {
    "ExecuteTime": {
     "end_time": "2020-08-11T18:28:44.353594Z",
     "start_time": "2020-08-11T18:28:11.163437Z"
    }
   },
   "outputs": [
    {
     "data": {
      "text/plain": [
       "<matplotlib.axes._subplots.AxesSubplot at 0x7fdd648d1e48>"
      ]
     },
     "execution_count": 5,
     "metadata": {},
     "output_type": "execute_result"
    },
    {
     "data": {
      "image/png": "[encoded data removed]",
      "text/plain": [
       "<Figure size 576x576 with 1 Axes>"
      ]
     },
     "metadata": {
      "needs_background": "light"
     },
     "output_type": "display_data"
    }
   ],
   "source": [
    "packet_lengths =  df.isna().sum(axis=1)\n",
    "plt.figure(figsize=(8,8))\n",
    "packet_lengths.plot.hist(bins = list(range(0, 1600, 20)))"
   ]
  },
  {
   "cell_type": "markdown",
   "metadata": {},
   "source": [
    "## Create Train and Test datasets"
   ]
  },
  {
   "cell_type": "code",
   "execution_count": 10,
   "metadata": {
    "ExecuteTime": {
     "end_time": "2020-08-11T18:29:25.143992Z",
     "start_time": "2020-08-11T18:28:44.359207Z"
    }
   },
   "outputs": [
    {
     "data": {
      "text/plain": [
       "Facebook    5000\n",
       "WhatsApp    5000\n",
       "YouTube     5000\n",
       "Name: label, dtype: int64"
      ]
     },
     "execution_count": 10,
     "metadata": {},
     "output_type": "execute_result"
    }
   ],
   "source": [
    "classes = [\"YouTube\", \"Facebook\", \"WhatsApp\"]\n",
    "num_packets = 5000\n",
    "\n",
    "df_new = pd.DataFrame()\n",
    "\n",
    "for label in classes:\n",
    "    df_label = df[df[\"label\"] == label] # e.g. if label == Facebook, extract the Facebook rows\n",
    "    assert len(df_label) >= num_packets # e.g. make sure at least 10000 Facebook packets\n",
    "    df_sampled = df_label.sample(n=num_packets, random_state=42)\n",
    "    df_new = df_new.append(df_sampled)\n",
    "    \n",
    "df_new[\"label\"].value_counts()"
   ]
  },
  {
   "cell_type": "code",
   "execution_count": 11,
   "metadata": {
    "ExecuteTime": {
     "end_time": "2020-08-11T18:29:25.225001Z",
     "start_time": "2020-08-11T18:29:25.151383Z"
    }
   },
   "outputs": [
    {
     "data": {
      "text/html": [
       "<div>\n",
       "<style scoped>\n",
       "    .dataframe tbody tr th:only-of-type {\n",
       "        vertical-align: middle;\n",
       "    }\n",
       "\n",
       "    .dataframe tbody tr th {\n",
       "        vertical-align: top;\n",
       "    }\n",
       "\n",
       "    .dataframe thead th {\n",
       "        text-align: right;\n",
       "    }\n",
       "</style>\n",
       "<table border=\"1\" class=\"dataframe\">\n",
       "  <thead>\n",
       "    <tr style=\"text-align: right;\">\n",
       "      <th></th>\n",
       "      <th>label</th>\n",
       "      <th>byte1</th>\n",
       "      <th>byte2</th>\n",
       "      <th>byte3</th>\n",
       "      <th>byte4</th>\n",
       "      <th>byte5</th>\n",
       "      <th>byte6</th>\n",
       "      <th>byte7</th>\n",
       "      <th>byte8</th>\n",
       "      <th>byte9</th>\n",
       "      <th>...</th>\n",
       "      <th>byte1471</th>\n",
       "      <th>byte1472</th>\n",
       "      <th>byte1473</th>\n",
       "      <th>byte1474</th>\n",
       "      <th>byte1475</th>\n",
       "      <th>byte1476</th>\n",
       "      <th>byte1477</th>\n",
       "      <th>byte1478</th>\n",
       "      <th>byte1479</th>\n",
       "      <th>byte1480</th>\n",
       "    </tr>\n",
       "  </thead>\n",
       "  <tbody>\n",
       "    <tr>\n",
       "      <th>371190</th>\n",
       "      <td>YouTube</td>\n",
       "      <td>1</td>\n",
       "      <td>187</td>\n",
       "      <td>241</td>\n",
       "      <td>40</td>\n",
       "      <td>165</td>\n",
       "      <td>43</td>\n",
       "      <td>117</td>\n",
       "      <td>131</td>\n",
       "      <td>190</td>\n",
       "      <td>...</td>\n",
       "      <td>60.0</td>\n",
       "      <td>172.0</td>\n",
       "      <td>NaN</td>\n",
       "      <td>NaN</td>\n",
       "      <td>NaN</td>\n",
       "      <td>NaN</td>\n",
       "      <td>NaN</td>\n",
       "      <td>NaN</td>\n",
       "      <td>NaN</td>\n",
       "      <td>NaN</td>\n",
       "    </tr>\n",
       "    <tr>\n",
       "      <th>191531</th>\n",
       "      <td>YouTube</td>\n",
       "      <td>1</td>\n",
       "      <td>187</td>\n",
       "      <td>191</td>\n",
       "      <td>238</td>\n",
       "      <td>8</td>\n",
       "      <td>234</td>\n",
       "      <td>1</td>\n",
       "      <td>249</td>\n",
       "      <td>126</td>\n",
       "      <td>...</td>\n",
       "      <td>200.0</td>\n",
       "      <td>112.0</td>\n",
       "      <td>NaN</td>\n",
       "      <td>NaN</td>\n",
       "      <td>NaN</td>\n",
       "      <td>NaN</td>\n",
       "      <td>NaN</td>\n",
       "      <td>NaN</td>\n",
       "      <td>NaN</td>\n",
       "      <td>NaN</td>\n",
       "    </tr>\n",
       "    <tr>\n",
       "      <th>465294</th>\n",
       "      <td>YouTube</td>\n",
       "      <td>1</td>\n",
       "      <td>187</td>\n",
       "      <td>243</td>\n",
       "      <td>244</td>\n",
       "      <td>96</td>\n",
       "      <td>102</td>\n",
       "      <td>45</td>\n",
       "      <td>43</td>\n",
       "      <td>86</td>\n",
       "      <td>...</td>\n",
       "      <td>158.0</td>\n",
       "      <td>23.0</td>\n",
       "      <td>NaN</td>\n",
       "      <td>NaN</td>\n",
       "      <td>NaN</td>\n",
       "      <td>NaN</td>\n",
       "      <td>NaN</td>\n",
       "      <td>NaN</td>\n",
       "      <td>NaN</td>\n",
       "      <td>NaN</td>\n",
       "    </tr>\n",
       "    <tr>\n",
       "      <th>179828</th>\n",
       "      <td>YouTube</td>\n",
       "      <td>1</td>\n",
       "      <td>187</td>\n",
       "      <td>187</td>\n",
       "      <td>69</td>\n",
       "      <td>162</td>\n",
       "      <td>230</td>\n",
       "      <td>147</td>\n",
       "      <td>68</td>\n",
       "      <td>80</td>\n",
       "      <td>...</td>\n",
       "      <td>229.0</td>\n",
       "      <td>212.0</td>\n",
       "      <td>NaN</td>\n",
       "      <td>NaN</td>\n",
       "      <td>NaN</td>\n",
       "      <td>NaN</td>\n",
       "      <td>NaN</td>\n",
       "      <td>NaN</td>\n",
       "      <td>NaN</td>\n",
       "      <td>NaN</td>\n",
       "    </tr>\n",
       "    <tr>\n",
       "      <th>349161</th>\n",
       "      <td>YouTube</td>\n",
       "      <td>1</td>\n",
       "      <td>187</td>\n",
       "      <td>240</td>\n",
       "      <td>76</td>\n",
       "      <td>46</td>\n",
       "      <td>71</td>\n",
       "      <td>252</td>\n",
       "      <td>98</td>\n",
       "      <td>195</td>\n",
       "      <td>...</td>\n",
       "      <td>197.0</td>\n",
       "      <td>196.0</td>\n",
       "      <td>NaN</td>\n",
       "      <td>NaN</td>\n",
       "      <td>NaN</td>\n",
       "      <td>NaN</td>\n",
       "      <td>NaN</td>\n",
       "      <td>NaN</td>\n",
       "      <td>NaN</td>\n",
       "      <td>NaN</td>\n",
       "    </tr>\n",
       "  </tbody>\n",
       "</table>\n",
       "<p>5 rows × 1481 columns</p>\n",
       "</div>"
      ],
      "text/plain": [
       "          label  byte1  byte2  byte3  byte4  byte5  byte6  byte7  byte8  \\\n",
       "371190  YouTube      1    187    241     40    165     43    117    131   \n",
       "191531  YouTube      1    187    191    238      8    234      1    249   \n",
       "465294  YouTube      1    187    243    244     96    102     45     43   \n",
       "179828  YouTube      1    187    187     69    162    230    147     68   \n",
       "349161  YouTube      1    187    240     76     46     71    252     98   \n",
       "\n",
       "        byte9  ...  byte1471  byte1472  byte1473  byte1474  byte1475  \\\n",
       "371190    190  ...      60.0     172.0       NaN       NaN       NaN   \n",
       "191531    126  ...     200.0     112.0       NaN       NaN       NaN   \n",
       "465294     86  ...     158.0      23.0       NaN       NaN       NaN   \n",
       "179828     80  ...     229.0     212.0       NaN       NaN       NaN   \n",
       "349161    195  ...     197.0     196.0       NaN       NaN       NaN   \n",
       "\n",
       "        byte1476  byte1477  byte1478  byte1479  byte1480  \n",
       "371190       NaN       NaN       NaN       NaN       NaN  \n",
       "191531       NaN       NaN       NaN       NaN       NaN  \n",
       "465294       NaN       NaN       NaN       NaN       NaN  \n",
       "179828       NaN       NaN       NaN       NaN       NaN  \n",
       "349161       NaN       NaN       NaN       NaN       NaN  \n",
       "\n",
       "[5 rows x 1481 columns]"
      ]
     },
     "execution_count": 11,
     "metadata": {},
     "output_type": "execute_result"
    }
   ],
   "source": [
    "df_new.head()"
   ]
  },
  {
   "cell_type": "markdown",
   "metadata": {},
   "source": [
    "Fill NaN's with 0 i.e. zero pad"
   ]
  },
  {
   "cell_type": "code",
   "execution_count": 12,
   "metadata": {
    "ExecuteTime": {
     "end_time": "2020-08-11T18:29:25.355909Z",
     "start_time": "2020-08-11T18:29:25.231933Z"
    }
   },
   "outputs": [],
   "source": [
    "df_new.fillna(0, inplace=True)"
   ]
  },
  {
   "cell_type": "code",
   "execution_count": 13,
   "metadata": {
    "ExecuteTime": {
     "end_time": "2020-08-11T18:29:25.393051Z",
     "start_time": "2020-08-11T18:29:25.358554Z"
    }
   },
   "outputs": [
    {
     "data": {
      "text/html": [
       "<div>\n",
       "<style scoped>\n",
       "    .dataframe tbody tr th:only-of-type {\n",
       "        vertical-align: middle;\n",
       "    }\n",
       "\n",
       "    .dataframe tbody tr th {\n",
       "        vertical-align: top;\n",
       "    }\n",
       "\n",
       "    .dataframe thead th {\n",
       "        text-align: right;\n",
       "    }\n",
       "</style>\n",
       "<table border=\"1\" class=\"dataframe\">\n",
       "  <thead>\n",
       "    <tr style=\"text-align: right;\">\n",
       "      <th></th>\n",
       "      <th>label</th>\n",
       "      <th>byte1</th>\n",
       "      <th>byte2</th>\n",
       "      <th>byte3</th>\n",
       "      <th>byte4</th>\n",
       "      <th>byte5</th>\n",
       "      <th>byte6</th>\n",
       "      <th>byte7</th>\n",
       "      <th>byte8</th>\n",
       "      <th>byte9</th>\n",
       "      <th>...</th>\n",
       "      <th>byte1471</th>\n",
       "      <th>byte1472</th>\n",
       "      <th>byte1473</th>\n",
       "      <th>byte1474</th>\n",
       "      <th>byte1475</th>\n",
       "      <th>byte1476</th>\n",
       "      <th>byte1477</th>\n",
       "      <th>byte1478</th>\n",
       "      <th>byte1479</th>\n",
       "      <th>byte1480</th>\n",
       "    </tr>\n",
       "  </thead>\n",
       "  <tbody>\n",
       "    <tr>\n",
       "      <th>371190</th>\n",
       "      <td>YouTube</td>\n",
       "      <td>1</td>\n",
       "      <td>187</td>\n",
       "      <td>241</td>\n",
       "      <td>40</td>\n",
       "      <td>165</td>\n",
       "      <td>43</td>\n",
       "      <td>117</td>\n",
       "      <td>131</td>\n",
       "      <td>190</td>\n",
       "      <td>...</td>\n",
       "      <td>60.0</td>\n",
       "      <td>172.0</td>\n",
       "      <td>0.0</td>\n",
       "      <td>0.0</td>\n",
       "      <td>0.0</td>\n",
       "      <td>0.0</td>\n",
       "      <td>0.0</td>\n",
       "      <td>0.0</td>\n",
       "      <td>0.0</td>\n",
       "      <td>0.0</td>\n",
       "    </tr>\n",
       "    <tr>\n",
       "      <th>191531</th>\n",
       "      <td>YouTube</td>\n",
       "      <td>1</td>\n",
       "      <td>187</td>\n",
       "      <td>191</td>\n",
       "      <td>238</td>\n",
       "      <td>8</td>\n",
       "      <td>234</td>\n",
       "      <td>1</td>\n",
       "      <td>249</td>\n",
       "      <td>126</td>\n",
       "      <td>...</td>\n",
       "      <td>200.0</td>\n",
       "      <td>112.0</td>\n",
       "      <td>0.0</td>\n",
       "      <td>0.0</td>\n",
       "      <td>0.0</td>\n",
       "      <td>0.0</td>\n",
       "      <td>0.0</td>\n",
       "      <td>0.0</td>\n",
       "      <td>0.0</td>\n",
       "      <td>0.0</td>\n",
       "    </tr>\n",
       "    <tr>\n",
       "      <th>465294</th>\n",
       "      <td>YouTube</td>\n",
       "      <td>1</td>\n",
       "      <td>187</td>\n",
       "      <td>243</td>\n",
       "      <td>244</td>\n",
       "      <td>96</td>\n",
       "      <td>102</td>\n",
       "      <td>45</td>\n",
       "      <td>43</td>\n",
       "      <td>86</td>\n",
       "      <td>...</td>\n",
       "      <td>158.0</td>\n",
       "      <td>23.0</td>\n",
       "      <td>0.0</td>\n",
       "      <td>0.0</td>\n",
       "      <td>0.0</td>\n",
       "      <td>0.0</td>\n",
       "      <td>0.0</td>\n",
       "      <td>0.0</td>\n",
       "      <td>0.0</td>\n",
       "      <td>0.0</td>\n",
       "    </tr>\n",
       "    <tr>\n",
       "      <th>179828</th>\n",
       "      <td>YouTube</td>\n",
       "      <td>1</td>\n",
       "      <td>187</td>\n",
       "      <td>187</td>\n",
       "      <td>69</td>\n",
       "      <td>162</td>\n",
       "      <td>230</td>\n",
       "      <td>147</td>\n",
       "      <td>68</td>\n",
       "      <td>80</td>\n",
       "      <td>...</td>\n",
       "      <td>229.0</td>\n",
       "      <td>212.0</td>\n",
       "      <td>0.0</td>\n",
       "      <td>0.0</td>\n",
       "      <td>0.0</td>\n",
       "      <td>0.0</td>\n",
       "      <td>0.0</td>\n",
       "      <td>0.0</td>\n",
       "      <td>0.0</td>\n",
       "      <td>0.0</td>\n",
       "    </tr>\n",
       "    <tr>\n",
       "      <th>349161</th>\n",
       "      <td>YouTube</td>\n",
       "      <td>1</td>\n",
       "      <td>187</td>\n",
       "      <td>240</td>\n",
       "      <td>76</td>\n",
       "      <td>46</td>\n",
       "      <td>71</td>\n",
       "      <td>252</td>\n",
       "      <td>98</td>\n",
       "      <td>195</td>\n",
       "      <td>...</td>\n",
       "      <td>197.0</td>\n",
       "      <td>196.0</td>\n",
       "      <td>0.0</td>\n",
       "      <td>0.0</td>\n",
       "      <td>0.0</td>\n",
       "      <td>0.0</td>\n",
       "      <td>0.0</td>\n",
       "      <td>0.0</td>\n",
       "      <td>0.0</td>\n",
       "      <td>0.0</td>\n",
       "    </tr>\n",
       "  </tbody>\n",
       "</table>\n",
       "<p>5 rows × 1481 columns</p>\n",
       "</div>"
      ],
      "text/plain": [
       "          label  byte1  byte2  byte3  byte4  byte5  byte6  byte7  byte8  \\\n",
       "371190  YouTube      1    187    241     40    165     43    117    131   \n",
       "191531  YouTube      1    187    191    238      8    234      1    249   \n",
       "465294  YouTube      1    187    243    244     96    102     45     43   \n",
       "179828  YouTube      1    187    187     69    162    230    147     68   \n",
       "349161  YouTube      1    187    240     76     46     71    252     98   \n",
       "\n",
       "        byte9  ...  byte1471  byte1472  byte1473  byte1474  byte1475  \\\n",
       "371190    190  ...      60.0     172.0       0.0       0.0       0.0   \n",
       "191531    126  ...     200.0     112.0       0.0       0.0       0.0   \n",
       "465294     86  ...     158.0      23.0       0.0       0.0       0.0   \n",
       "179828     80  ...     229.0     212.0       0.0       0.0       0.0   \n",
       "349161    195  ...     197.0     196.0       0.0       0.0       0.0   \n",
       "\n",
       "        byte1476  byte1477  byte1478  byte1479  byte1480  \n",
       "371190       0.0       0.0       0.0       0.0       0.0  \n",
       "191531       0.0       0.0       0.0       0.0       0.0  \n",
       "465294       0.0       0.0       0.0       0.0       0.0  \n",
       "179828       0.0       0.0       0.0       0.0       0.0  \n",
       "349161       0.0       0.0       0.0       0.0       0.0  \n",
       "\n",
       "[5 rows x 1481 columns]"
      ]
     },
     "execution_count": 13,
     "metadata": {},
     "output_type": "execute_result"
    }
   ],
   "source": [
    "df_new.head()"
   ]
  },
  {
   "cell_type": "markdown",
   "metadata": {},
   "source": [
    "Perform the train-test split"
   ]
  },
  {
   "cell_type": "code",
   "execution_count": 14,
   "metadata": {
    "ExecuteTime": {
     "end_time": "2020-08-11T18:29:25.585151Z",
     "start_time": "2020-08-11T18:29:25.397724Z"
    }
   },
   "outputs": [
    {
     "data": {
      "text/plain": [
       "(12000, 3000)"
      ]
     },
     "execution_count": 14,
     "metadata": {},
     "output_type": "execute_result"
    }
   ],
   "source": [
    "df_train, df_test = train_test_split(df_new, test_size=0.2, random_state=42)\n",
    "len(df_train), len(df_test)"
   ]
  },
  {
   "cell_type": "code",
   "execution_count": 16,
   "metadata": {
    "ExecuteTime": {
     "end_time": "2020-08-11T18:30:09.835884Z",
     "start_time": "2020-08-11T18:30:09.830425Z"
    }
   },
   "outputs": [],
   "source": [
    "file_suffix = \"{0}_{1}\".format(len(classes),num_packets) # e.g. 3_10000"
   ]
  },
  {
   "cell_type": "markdown",
   "metadata": {
    "ExecuteTime": {
     "end_time": "2020-08-11T18:32:25.556296Z",
     "start_time": "2020-08-11T18:32:25.539211Z"
    }
   },
   "source": [
    "Writing to train.csv and test.csv"
   ]
  },
  {
   "cell_type": "code",
   "execution_count": 17,
   "metadata": {
    "ExecuteTime": {
     "end_time": "2020-08-11T18:30:29.336258Z",
     "start_time": "2020-08-11T18:30:12.258851Z"
    }
   },
   "outputs": [],
   "source": [
    "df_train.to_csv(\"../../data/{0}/train_{0}.csv\".format(file_suffix), index=False)"
   ]
  },
  {
   "cell_type": "code",
   "execution_count": 19,
   "metadata": {
    "ExecuteTime": {
     "end_time": "2020-08-11T18:31:05.888792Z",
     "start_time": "2020-08-11T18:31:00.993034Z"
    }
   },
   "outputs": [],
   "source": [
    "df_test.to_csv(\"../../data/{0}/test_{0}.csv\".format(file_suffix), index=False)"
   ]
  }
 ],
 "metadata": {
  "kernelspec": {
   "display_name": "Python 3",
   "language": "python",
   "name": "python3"
  },
  "language_info": {
   "codemirror_mode": {
    "name": "ipython",
    "version": 3
   },
   "file_extension": ".py",
   "mimetype": "text/x-python",
   "name": "python",
   "nbconvert_exporter": "python",
   "pygments_lexer": "ipython3",
   "version": "3.6.10"
  }
 },
 "nbformat": 4,
 "nbformat_minor": 4
}
